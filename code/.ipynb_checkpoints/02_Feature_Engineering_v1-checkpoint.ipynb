{
 "cells": [
  {
   "cell_type": "markdown",
   "metadata": {},
   "source": [
    "# 2. Preprocessing and Feature Engineering"
   ]
  },
  {
   "cell_type": "markdown",
   "metadata": {},
   "source": [
    "## Importing Libraries\n",
    "---"
   ]
  },
  {
   "cell_type": "code",
   "execution_count": 2,
   "metadata": {},
   "outputs": [],
   "source": [
    "import pandas as pd\n",
    "import numpy as np\n",
    "import seaborn as sns\n",
    "import matplotlib.pyplot as plt\n",
    "%matplotlib inline\n",
    "\n",
    "from sklearn.linear_model import LinearRegression, LassoCV, RidgeCV\n",
    "from sklearn.preprocessing import PolynomialFeatures, StandardScaler\n",
    "from sklearn.model_selection import train_test_split, cross_val_score, cross_val_predict\n",
    "from sklearn.metrics import r2_score"
   ]
  },
  {
   "cell_type": "markdown",
   "metadata": {},
   "source": [
    "## Load the Data\n",
    "---"
   ]
  },
  {
   "cell_type": "code",
   "execution_count": 3,
   "metadata": {},
   "outputs": [
    {
     "data": {
      "text/html": [
       "<div>\n",
       "<style scoped>\n",
       "    .dataframe tbody tr th:only-of-type {\n",
       "        vertical-align: middle;\n",
       "    }\n",
       "\n",
       "    .dataframe tbody tr th {\n",
       "        vertical-align: top;\n",
       "    }\n",
       "\n",
       "    .dataframe thead th {\n",
       "        text-align: right;\n",
       "    }\n",
       "</style>\n",
       "<table border=\"1\" class=\"dataframe\">\n",
       "  <thead>\n",
       "    <tr style=\"text-align: right;\">\n",
       "      <th></th>\n",
       "      <th>ms_subclass</th>\n",
       "      <th>ms_zoning</th>\n",
       "      <th>lot_frontage</th>\n",
       "      <th>lot_area</th>\n",
       "      <th>street</th>\n",
       "      <th>lot_shape</th>\n",
       "      <th>land_contour</th>\n",
       "      <th>utilities</th>\n",
       "      <th>lot_config</th>\n",
       "      <th>land_slope</th>\n",
       "      <th>...</th>\n",
       "      <th>open_porch_sf</th>\n",
       "      <th>enclosed_porch</th>\n",
       "      <th>3ssn_porch</th>\n",
       "      <th>screen_porch</th>\n",
       "      <th>pool_area</th>\n",
       "      <th>misc_val</th>\n",
       "      <th>mo_sold</th>\n",
       "      <th>yr_sold</th>\n",
       "      <th>sale_type</th>\n",
       "      <th>saleprice</th>\n",
       "    </tr>\n",
       "  </thead>\n",
       "  <tbody>\n",
       "    <tr>\n",
       "      <th>0</th>\n",
       "      <td>60</td>\n",
       "      <td>RL</td>\n",
       "      <td>68.878999</td>\n",
       "      <td>13517</td>\n",
       "      <td>Pave</td>\n",
       "      <td>IR1</td>\n",
       "      <td>Lvl</td>\n",
       "      <td>AllPub</td>\n",
       "      <td>CulDSac</td>\n",
       "      <td>Gtl</td>\n",
       "      <td>...</td>\n",
       "      <td>44</td>\n",
       "      <td>0</td>\n",
       "      <td>0</td>\n",
       "      <td>0</td>\n",
       "      <td>0</td>\n",
       "      <td>0</td>\n",
       "      <td>3</td>\n",
       "      <td>2010</td>\n",
       "      <td>WD</td>\n",
       "      <td>130500</td>\n",
       "    </tr>\n",
       "    <tr>\n",
       "      <th>1</th>\n",
       "      <td>60</td>\n",
       "      <td>RL</td>\n",
       "      <td>43.000000</td>\n",
       "      <td>11492</td>\n",
       "      <td>Pave</td>\n",
       "      <td>IR1</td>\n",
       "      <td>Lvl</td>\n",
       "      <td>AllPub</td>\n",
       "      <td>CulDSac</td>\n",
       "      <td>Gtl</td>\n",
       "      <td>...</td>\n",
       "      <td>74</td>\n",
       "      <td>0</td>\n",
       "      <td>0</td>\n",
       "      <td>0</td>\n",
       "      <td>0</td>\n",
       "      <td>0</td>\n",
       "      <td>4</td>\n",
       "      <td>2009</td>\n",
       "      <td>WD</td>\n",
       "      <td>220000</td>\n",
       "    </tr>\n",
       "    <tr>\n",
       "      <th>2</th>\n",
       "      <td>20</td>\n",
       "      <td>RL</td>\n",
       "      <td>68.000000</td>\n",
       "      <td>7922</td>\n",
       "      <td>Pave</td>\n",
       "      <td>Reg</td>\n",
       "      <td>Lvl</td>\n",
       "      <td>AllPub</td>\n",
       "      <td>Inside</td>\n",
       "      <td>Gtl</td>\n",
       "      <td>...</td>\n",
       "      <td>52</td>\n",
       "      <td>0</td>\n",
       "      <td>0</td>\n",
       "      <td>0</td>\n",
       "      <td>0</td>\n",
       "      <td>0</td>\n",
       "      <td>1</td>\n",
       "      <td>2010</td>\n",
       "      <td>WD</td>\n",
       "      <td>109000</td>\n",
       "    </tr>\n",
       "    <tr>\n",
       "      <th>3</th>\n",
       "      <td>60</td>\n",
       "      <td>RL</td>\n",
       "      <td>73.000000</td>\n",
       "      <td>9802</td>\n",
       "      <td>Pave</td>\n",
       "      <td>Reg</td>\n",
       "      <td>Lvl</td>\n",
       "      <td>AllPub</td>\n",
       "      <td>Inside</td>\n",
       "      <td>Gtl</td>\n",
       "      <td>...</td>\n",
       "      <td>0</td>\n",
       "      <td>0</td>\n",
       "      <td>0</td>\n",
       "      <td>0</td>\n",
       "      <td>0</td>\n",
       "      <td>0</td>\n",
       "      <td>4</td>\n",
       "      <td>2010</td>\n",
       "      <td>WD</td>\n",
       "      <td>174000</td>\n",
       "    </tr>\n",
       "    <tr>\n",
       "      <th>4</th>\n",
       "      <td>50</td>\n",
       "      <td>RL</td>\n",
       "      <td>82.000000</td>\n",
       "      <td>14235</td>\n",
       "      <td>Pave</td>\n",
       "      <td>IR1</td>\n",
       "      <td>Lvl</td>\n",
       "      <td>AllPub</td>\n",
       "      <td>Inside</td>\n",
       "      <td>Gtl</td>\n",
       "      <td>...</td>\n",
       "      <td>59</td>\n",
       "      <td>0</td>\n",
       "      <td>0</td>\n",
       "      <td>0</td>\n",
       "      <td>0</td>\n",
       "      <td>0</td>\n",
       "      <td>3</td>\n",
       "      <td>2010</td>\n",
       "      <td>WD</td>\n",
       "      <td>138500</td>\n",
       "    </tr>\n",
       "  </tbody>\n",
       "</table>\n",
       "<p>5 rows × 74 columns</p>\n",
       "</div>"
      ],
      "text/plain": [
       "   ms_subclass ms_zoning  lot_frontage  lot_area street lot_shape  \\\n",
       "0           60        RL     68.878999     13517   Pave       IR1   \n",
       "1           60        RL     43.000000     11492   Pave       IR1   \n",
       "2           20        RL     68.000000      7922   Pave       Reg   \n",
       "3           60        RL     73.000000      9802   Pave       Reg   \n",
       "4           50        RL     82.000000     14235   Pave       IR1   \n",
       "\n",
       "  land_contour utilities lot_config land_slope  ... open_porch_sf  \\\n",
       "0          Lvl    AllPub    CulDSac        Gtl  ...            44   \n",
       "1          Lvl    AllPub    CulDSac        Gtl  ...            74   \n",
       "2          Lvl    AllPub     Inside        Gtl  ...            52   \n",
       "3          Lvl    AllPub     Inside        Gtl  ...             0   \n",
       "4          Lvl    AllPub     Inside        Gtl  ...            59   \n",
       "\n",
       "  enclosed_porch 3ssn_porch screen_porch pool_area  misc_val  mo_sold  \\\n",
       "0              0          0            0         0         0        3   \n",
       "1              0          0            0         0         0        4   \n",
       "2              0          0            0         0         0        1   \n",
       "3              0          0            0         0         0        4   \n",
       "4              0          0            0         0         0        3   \n",
       "\n",
       "   yr_sold  sale_type saleprice  \n",
       "0     2010        WD     130500  \n",
       "1     2009        WD     220000  \n",
       "2     2010        WD     109000  \n",
       "3     2010        WD     174000  \n",
       "4     2010        WD     138500  \n",
       "\n",
       "[5 rows x 74 columns]"
      ]
     },
     "execution_count": 3,
     "metadata": {},
     "output_type": "execute_result"
    }
   ],
   "source": [
    "df_train = pd.read_csv('../data/train_clean.csv')\n",
    "df_train.head()"
   ]
  },
  {
   "cell_type": "code",
   "execution_count": 4,
   "metadata": {},
   "outputs": [
    {
     "name": "stdout",
     "output_type": "stream",
     "text": [
      "<class 'pandas.core.frame.DataFrame'>\n",
      "RangeIndex: 2049 entries, 0 to 2048\n",
      "Data columns (total 74 columns):\n",
      " #   Column           Non-Null Count  Dtype  \n",
      "---  ------           --------------  -----  \n",
      " 0   ms_subclass      2049 non-null   int64  \n",
      " 1   ms_zoning        2049 non-null   object \n",
      " 2   lot_frontage     2049 non-null   float64\n",
      " 3   lot_area         2049 non-null   int64  \n",
      " 4   street           2049 non-null   object \n",
      " 5   lot_shape        2049 non-null   object \n",
      " 6   land_contour     2049 non-null   object \n",
      " 7   utilities        2049 non-null   object \n",
      " 8   lot_config       2049 non-null   object \n",
      " 9   land_slope       2049 non-null   object \n",
      " 10  neighborhood     2049 non-null   object \n",
      " 11  condition_1      2049 non-null   object \n",
      " 12  condition_2      2049 non-null   object \n",
      " 13  bldg_type        2049 non-null   object \n",
      " 14  house_style      2049 non-null   object \n",
      " 15  overall_qual     2049 non-null   int64  \n",
      " 16  overall_cond     2049 non-null   int64  \n",
      " 17  year_built       2049 non-null   int64  \n",
      " 18  year_remod/add   2049 non-null   int64  \n",
      " 19  roof_style       2049 non-null   object \n",
      " 20  roof_matl        2049 non-null   object \n",
      " 21  exterior_1st     2049 non-null   object \n",
      " 22  exterior_2nd     2049 non-null   object \n",
      " 23  mas_vnr_type     2049 non-null   object \n",
      " 24  mas_vnr_area     2049 non-null   float64\n",
      " 25  exter_qual       2049 non-null   object \n",
      " 26  exter_cond       2049 non-null   object \n",
      " 27  foundation       2049 non-null   object \n",
      " 28  bsmt_qual        1994 non-null   object \n",
      " 29  bsmt_cond        1994 non-null   object \n",
      " 30  bsmt_exposure    1991 non-null   object \n",
      " 31  bsmtfin_type_1   1994 non-null   object \n",
      " 32  bsmtfin_sf_1     2049 non-null   float64\n",
      " 33  bsmtfin_type_2   1993 non-null   object \n",
      " 34  bsmtfin_sf_2     2049 non-null   float64\n",
      " 35  bsmt_unf_sf      2049 non-null   float64\n",
      " 36  total_bsmt_sf    2049 non-null   float64\n",
      " 37  heating          2049 non-null   object \n",
      " 38  heating_qc       2049 non-null   object \n",
      " 39  central_air      2049 non-null   object \n",
      " 40  electrical       2049 non-null   object \n",
      " 41  1st_flr_sf       2049 non-null   int64  \n",
      " 42  2nd_flr_sf       2049 non-null   int64  \n",
      " 43  low_qual_fin_sf  2049 non-null   int64  \n",
      " 44  gr_liv_area      2049 non-null   int64  \n",
      " 45  bsmt_full_bath   2049 non-null   float64\n",
      " 46  bsmt_half_bath   2049 non-null   float64\n",
      " 47  full_bath        2049 non-null   int64  \n",
      " 48  half_bath        2049 non-null   int64  \n",
      " 49  bedroom_abvgr    2049 non-null   int64  \n",
      " 50  kitchen_abvgr    2049 non-null   int64  \n",
      " 51  kitchen_qual     2049 non-null   object \n",
      " 52  totrms_abvgrd    2049 non-null   int64  \n",
      " 53  functional       2049 non-null   object \n",
      " 54  fireplaces       2049 non-null   int64  \n",
      " 55  garage_type      1936 non-null   object \n",
      " 56  garage_yr_blt    2049 non-null   float64\n",
      " 57  garage_finish    1935 non-null   object \n",
      " 58  garage_cars      2049 non-null   float64\n",
      " 59  garage_area      2049 non-null   float64\n",
      " 60  garage_qual      1935 non-null   object \n",
      " 61  garage_cond      1935 non-null   object \n",
      " 62  paved_drive      2049 non-null   object \n",
      " 63  wood_deck_sf     2049 non-null   int64  \n",
      " 64  open_porch_sf    2049 non-null   int64  \n",
      " 65  enclosed_porch   2049 non-null   int64  \n",
      " 66  3ssn_porch       2049 non-null   int64  \n",
      " 67  screen_porch     2049 non-null   int64  \n",
      " 68  pool_area        2049 non-null   int64  \n",
      " 69  misc_val         2049 non-null   int64  \n",
      " 70  mo_sold          2049 non-null   int64  \n",
      " 71  yr_sold          2049 non-null   int64  \n",
      " 72  sale_type        2049 non-null   object \n",
      " 73  saleprice        2049 non-null   int64  \n",
      "dtypes: float64(11), int64(26), object(37)\n",
      "memory usage: 1.2+ MB\n"
     ]
    }
   ],
   "source": [
    "df_train.info()"
   ]
  },
  {
   "cell_type": "code",
   "execution_count": 5,
   "metadata": {},
   "outputs": [
    {
     "data": {
      "text/plain": [
       "array(['TA', 'Gd', nan, 'Fa', 'Po', 'Ex'], dtype=object)"
      ]
     },
     "execution_count": 5,
     "metadata": {},
     "output_type": "execute_result"
    }
   ],
   "source": [
    "df_train['bsmt_cond'].unique()"
   ]
  },
  {
   "cell_type": "code",
   "execution_count": 6,
   "metadata": {},
   "outputs": [
    {
     "data": {
      "text/html": [
       "<div>\n",
       "<style scoped>\n",
       "    .dataframe tbody tr th:only-of-type {\n",
       "        vertical-align: middle;\n",
       "    }\n",
       "\n",
       "    .dataframe tbody tr th {\n",
       "        vertical-align: top;\n",
       "    }\n",
       "\n",
       "    .dataframe thead th {\n",
       "        text-align: right;\n",
       "    }\n",
       "</style>\n",
       "<table border=\"1\" class=\"dataframe\">\n",
       "  <thead>\n",
       "    <tr style=\"text-align: right;\">\n",
       "      <th></th>\n",
       "      <th>ms_subclass</th>\n",
       "      <th>ms_zoning</th>\n",
       "      <th>lot_frontage</th>\n",
       "      <th>lot_area</th>\n",
       "      <th>street</th>\n",
       "      <th>lot_shape</th>\n",
       "      <th>land_contour</th>\n",
       "      <th>utilities</th>\n",
       "      <th>lot_config</th>\n",
       "      <th>land_slope</th>\n",
       "      <th>...</th>\n",
       "      <th>wood_deck_sf</th>\n",
       "      <th>open_porch_sf</th>\n",
       "      <th>enclosed_porch</th>\n",
       "      <th>3ssn_porch</th>\n",
       "      <th>screen_porch</th>\n",
       "      <th>pool_area</th>\n",
       "      <th>misc_val</th>\n",
       "      <th>mo_sold</th>\n",
       "      <th>yr_sold</th>\n",
       "      <th>sale_type</th>\n",
       "    </tr>\n",
       "  </thead>\n",
       "  <tbody>\n",
       "    <tr>\n",
       "      <th>0</th>\n",
       "      <td>190</td>\n",
       "      <td>RM</td>\n",
       "      <td>69.000000</td>\n",
       "      <td>9142</td>\n",
       "      <td>Pave</td>\n",
       "      <td>Reg</td>\n",
       "      <td>Lvl</td>\n",
       "      <td>AllPub</td>\n",
       "      <td>Inside</td>\n",
       "      <td>Gtl</td>\n",
       "      <td>...</td>\n",
       "      <td>0</td>\n",
       "      <td>60</td>\n",
       "      <td>112</td>\n",
       "      <td>0</td>\n",
       "      <td>0</td>\n",
       "      <td>0</td>\n",
       "      <td>0</td>\n",
       "      <td>4</td>\n",
       "      <td>2006</td>\n",
       "      <td>WD</td>\n",
       "    </tr>\n",
       "    <tr>\n",
       "      <th>1</th>\n",
       "      <td>90</td>\n",
       "      <td>RL</td>\n",
       "      <td>69.545961</td>\n",
       "      <td>9662</td>\n",
       "      <td>Pave</td>\n",
       "      <td>IR1</td>\n",
       "      <td>Lvl</td>\n",
       "      <td>AllPub</td>\n",
       "      <td>Inside</td>\n",
       "      <td>Gtl</td>\n",
       "      <td>...</td>\n",
       "      <td>170</td>\n",
       "      <td>0</td>\n",
       "      <td>0</td>\n",
       "      <td>0</td>\n",
       "      <td>0</td>\n",
       "      <td>0</td>\n",
       "      <td>0</td>\n",
       "      <td>8</td>\n",
       "      <td>2006</td>\n",
       "      <td>WD</td>\n",
       "    </tr>\n",
       "    <tr>\n",
       "      <th>2</th>\n",
       "      <td>60</td>\n",
       "      <td>RL</td>\n",
       "      <td>58.000000</td>\n",
       "      <td>17104</td>\n",
       "      <td>Pave</td>\n",
       "      <td>IR1</td>\n",
       "      <td>Lvl</td>\n",
       "      <td>AllPub</td>\n",
       "      <td>Inside</td>\n",
       "      <td>Gtl</td>\n",
       "      <td>...</td>\n",
       "      <td>100</td>\n",
       "      <td>24</td>\n",
       "      <td>0</td>\n",
       "      <td>0</td>\n",
       "      <td>0</td>\n",
       "      <td>0</td>\n",
       "      <td>0</td>\n",
       "      <td>9</td>\n",
       "      <td>2006</td>\n",
       "      <td>New</td>\n",
       "    </tr>\n",
       "    <tr>\n",
       "      <th>3</th>\n",
       "      <td>30</td>\n",
       "      <td>RM</td>\n",
       "      <td>60.000000</td>\n",
       "      <td>8520</td>\n",
       "      <td>Pave</td>\n",
       "      <td>Reg</td>\n",
       "      <td>Lvl</td>\n",
       "      <td>AllPub</td>\n",
       "      <td>Inside</td>\n",
       "      <td>Gtl</td>\n",
       "      <td>...</td>\n",
       "      <td>0</td>\n",
       "      <td>0</td>\n",
       "      <td>184</td>\n",
       "      <td>0</td>\n",
       "      <td>0</td>\n",
       "      <td>0</td>\n",
       "      <td>0</td>\n",
       "      <td>7</td>\n",
       "      <td>2007</td>\n",
       "      <td>WD</td>\n",
       "    </tr>\n",
       "    <tr>\n",
       "      <th>4</th>\n",
       "      <td>20</td>\n",
       "      <td>RL</td>\n",
       "      <td>69.545961</td>\n",
       "      <td>9500</td>\n",
       "      <td>Pave</td>\n",
       "      <td>IR1</td>\n",
       "      <td>Lvl</td>\n",
       "      <td>AllPub</td>\n",
       "      <td>Inside</td>\n",
       "      <td>Gtl</td>\n",
       "      <td>...</td>\n",
       "      <td>0</td>\n",
       "      <td>76</td>\n",
       "      <td>0</td>\n",
       "      <td>0</td>\n",
       "      <td>185</td>\n",
       "      <td>0</td>\n",
       "      <td>0</td>\n",
       "      <td>7</td>\n",
       "      <td>2009</td>\n",
       "      <td>WD</td>\n",
       "    </tr>\n",
       "  </tbody>\n",
       "</table>\n",
       "<p>5 rows × 73 columns</p>\n",
       "</div>"
      ],
      "text/plain": [
       "   ms_subclass ms_zoning  lot_frontage  lot_area street lot_shape  \\\n",
       "0          190        RM     69.000000      9142   Pave       Reg   \n",
       "1           90        RL     69.545961      9662   Pave       IR1   \n",
       "2           60        RL     58.000000     17104   Pave       IR1   \n",
       "3           30        RM     60.000000      8520   Pave       Reg   \n",
       "4           20        RL     69.545961      9500   Pave       IR1   \n",
       "\n",
       "  land_contour utilities lot_config land_slope  ... wood_deck_sf  \\\n",
       "0          Lvl    AllPub     Inside        Gtl  ...            0   \n",
       "1          Lvl    AllPub     Inside        Gtl  ...          170   \n",
       "2          Lvl    AllPub     Inside        Gtl  ...          100   \n",
       "3          Lvl    AllPub     Inside        Gtl  ...            0   \n",
       "4          Lvl    AllPub     Inside        Gtl  ...            0   \n",
       "\n",
       "  open_porch_sf enclosed_porch 3ssn_porch screen_porch  pool_area  misc_val  \\\n",
       "0            60            112          0            0          0         0   \n",
       "1             0              0          0            0          0         0   \n",
       "2            24              0          0            0          0         0   \n",
       "3             0            184          0            0          0         0   \n",
       "4            76              0          0          185          0         0   \n",
       "\n",
       "   mo_sold  yr_sold sale_type  \n",
       "0        4     2006       WD   \n",
       "1        8     2006       WD   \n",
       "2        9     2006       New  \n",
       "3        7     2007       WD   \n",
       "4        7     2009       WD   \n",
       "\n",
       "[5 rows x 73 columns]"
      ]
     },
     "execution_count": 6,
     "metadata": {},
     "output_type": "execute_result"
    }
   ],
   "source": [
    "df_test = pd.read_csv('../data/test_clean.csv')\n",
    "df_test.head()"
   ]
  },
  {
   "cell_type": "code",
   "execution_count": 7,
   "metadata": {},
   "outputs": [
    {
     "name": "stdout",
     "output_type": "stream",
     "text": [
      "<class 'pandas.core.frame.DataFrame'>\n",
      "RangeIndex: 878 entries, 0 to 877\n",
      "Data columns (total 73 columns):\n",
      " #   Column           Non-Null Count  Dtype  \n",
      "---  ------           --------------  -----  \n",
      " 0   ms_subclass      878 non-null    int64  \n",
      " 1   ms_zoning        878 non-null    object \n",
      " 2   lot_frontage     878 non-null    float64\n",
      " 3   lot_area         878 non-null    int64  \n",
      " 4   street           878 non-null    object \n",
      " 5   lot_shape        878 non-null    object \n",
      " 6   land_contour     878 non-null    object \n",
      " 7   utilities        878 non-null    object \n",
      " 8   lot_config       878 non-null    object \n",
      " 9   land_slope       878 non-null    object \n",
      " 10  neighborhood     878 non-null    object \n",
      " 11  condition_1      878 non-null    object \n",
      " 12  condition_2      878 non-null    object \n",
      " 13  bldg_type        878 non-null    object \n",
      " 14  house_style      878 non-null    object \n",
      " 15  overall_qual     878 non-null    int64  \n",
      " 16  overall_cond     878 non-null    int64  \n",
      " 17  year_built       878 non-null    int64  \n",
      " 18  year_remod/add   878 non-null    int64  \n",
      " 19  roof_style       878 non-null    object \n",
      " 20  roof_matl        878 non-null    object \n",
      " 21  exterior_1st     878 non-null    object \n",
      " 22  exterior_2nd     878 non-null    object \n",
      " 23  mas_vnr_type     878 non-null    object \n",
      " 24  mas_vnr_area     878 non-null    float64\n",
      " 25  exter_qual       878 non-null    object \n",
      " 26  exter_cond       878 non-null    object \n",
      " 27  foundation       878 non-null    object \n",
      " 28  bsmt_qual        853 non-null    object \n",
      " 29  bsmt_cond        853 non-null    object \n",
      " 30  bsmt_exposure    853 non-null    object \n",
      " 31  bsmtfin_type_1   853 non-null    object \n",
      " 32  bsmtfin_sf_1     878 non-null    int64  \n",
      " 33  bsmtfin_type_2   853 non-null    object \n",
      " 34  bsmtfin_sf_2     878 non-null    int64  \n",
      " 35  bsmt_unf_sf      878 non-null    int64  \n",
      " 36  total_bsmt_sf    878 non-null    int64  \n",
      " 37  heating          878 non-null    object \n",
      " 38  heating_qc       878 non-null    object \n",
      " 39  central_air      878 non-null    object \n",
      " 40  electrical       878 non-null    object \n",
      " 41  1st_flr_sf       878 non-null    int64  \n",
      " 42  2nd_flr_sf       878 non-null    int64  \n",
      " 43  low_qual_fin_sf  878 non-null    int64  \n",
      " 44  gr_liv_area      878 non-null    int64  \n",
      " 45  bsmt_full_bath   878 non-null    int64  \n",
      " 46  bsmt_half_bath   878 non-null    int64  \n",
      " 47  full_bath        878 non-null    int64  \n",
      " 48  half_bath        878 non-null    int64  \n",
      " 49  bedroom_abvgr    878 non-null    int64  \n",
      " 50  kitchen_abvgr    878 non-null    int64  \n",
      " 51  kitchen_qual     878 non-null    object \n",
      " 52  totrms_abvgrd    878 non-null    int64  \n",
      " 53  functional       878 non-null    object \n",
      " 54  fireplaces       878 non-null    int64  \n",
      " 55  garage_type      834 non-null    object \n",
      " 56  garage_yr_blt    878 non-null    float64\n",
      " 57  garage_finish    833 non-null    object \n",
      " 58  garage_cars      878 non-null    int64  \n",
      " 59  garage_area      878 non-null    int64  \n",
      " 60  garage_qual      833 non-null    object \n",
      " 61  garage_cond      833 non-null    object \n",
      " 62  paved_drive      878 non-null    object \n",
      " 63  wood_deck_sf     878 non-null    int64  \n",
      " 64  open_porch_sf    878 non-null    int64  \n",
      " 65  enclosed_porch   878 non-null    int64  \n",
      " 66  3ssn_porch       878 non-null    int64  \n",
      " 67  screen_porch     878 non-null    int64  \n",
      " 68  pool_area        878 non-null    int64  \n",
      " 69  misc_val         878 non-null    int64  \n",
      " 70  mo_sold          878 non-null    int64  \n",
      " 71  yr_sold          878 non-null    int64  \n",
      " 72  sale_type        878 non-null    object \n",
      "dtypes: float64(3), int64(33), object(37)\n",
      "memory usage: 500.9+ KB\n"
     ]
    }
   ],
   "source": [
    "df_test.info()"
   ]
  },
  {
   "cell_type": "code",
   "execution_count": 8,
   "metadata": {},
   "outputs": [
    {
     "name": "stdout",
     "output_type": "stream",
     "text": [
      "(2049, 74)\n",
      "(878, 73)\n"
     ]
    }
   ],
   "source": [
    "# defining function for checking df shapes\n",
    "def df_shape(df1, df2):\n",
    "    print(df1.shape)\n",
    "    print(df2.shape)\n",
    "    \n",
    "df_shape(df_train, df_test)"
   ]
  },
  {
   "cell_type": "code",
   "execution_count": 9,
   "metadata": {},
   "outputs": [],
   "source": [
    "# defining function for locating NaN values\n",
    "\n",
    "def df_null_values(df):\n",
    "    print(df.isnull().sum().sum())\n",
    "    print(df.isnull().values.any())\n",
    "\n",
    "def col_null_values(df, col):\n",
    "    print(df[col].isnull().sum())\n",
    "    print(df[col].isnull().values.any())"
   ]
  },
  {
   "cell_type": "markdown",
   "metadata": {},
   "source": [
    "## Feature Engineering\n",
    "---"
   ]
  },
  {
   "cell_type": "markdown",
   "metadata": {},
   "source": [
    "### Binarize `Central Air` variable\n",
    ">`Central Air` : Central air conditioning\n",
    "\n",
    "Since the data values are Y/N, we can convert them to boolean variables. "
   ]
  },
  {
   "cell_type": "code",
   "execution_count": 10,
   "metadata": {},
   "outputs": [
    {
     "data": {
      "text/plain": [
       "Y    1908\n",
       "N     141\n",
       "Name: central_air, dtype: int64"
      ]
     },
     "execution_count": 10,
     "metadata": {},
     "output_type": "execute_result"
    }
   ],
   "source": [
    "df_train['central_air'].value_counts()"
   ]
  },
  {
   "cell_type": "code",
   "execution_count": 11,
   "metadata": {},
   "outputs": [
    {
     "data": {
      "text/plain": [
       "1    1908\n",
       "0     141\n",
       "Name: central_air, dtype: int64"
      ]
     },
     "execution_count": 11,
     "metadata": {},
     "output_type": "execute_result"
    }
   ],
   "source": [
    "df_train['central_air'] = df_train['central_air'].map({'Y': 1, 'N': 0})\n",
    "df_train['central_air'].value_counts()"
   ]
  },
  {
   "cell_type": "code",
   "execution_count": 12,
   "metadata": {},
   "outputs": [
    {
     "data": {
      "text/plain": [
       "Y    823\n",
       "N     55\n",
       "Name: central_air, dtype: int64"
      ]
     },
     "execution_count": 12,
     "metadata": {},
     "output_type": "execute_result"
    }
   ],
   "source": [
    "df_test['central_air'].value_counts()"
   ]
  },
  {
   "cell_type": "code",
   "execution_count": 13,
   "metadata": {},
   "outputs": [
    {
     "data": {
      "text/plain": [
       "1    823\n",
       "0     55\n",
       "Name: central_air, dtype: int64"
      ]
     },
     "execution_count": 13,
     "metadata": {},
     "output_type": "execute_result"
    }
   ],
   "source": [
    "df_test['central_air'] = df_test['central_air'].map({'Y': 1, 'N': 0})\n",
    "df_test['central_air'].value_counts()"
   ]
  },
  {
   "cell_type": "markdown",
   "metadata": {},
   "source": [
    "### Mapping Ordinal Variables"
   ]
  },
  {
   "cell_type": "code",
   "execution_count": 14,
   "metadata": {},
   "outputs": [],
   "source": [
    "def convert_ordinal_variables(df):\n",
    "    df['lot_shape'] = df['lot_shape'].map({'Reg': 4, 'IR1': 3, 'IR2': 2, 'IR3':1})\n",
    "    df['utilities'] = df['utilities'].map({'AllPub': 4, 'NoSewr': 3, 'NoSeWa': 2, 'ELO':1})\n",
    "    df['land_slope'] = df['land_slope'].map({'Gtl': 3, 'Mod': 2, 'Sev':1})\n",
    "    df['exter_qual'] = df['exter_qual'].map({'Ex': 5, 'Gd': 4, 'TA': 3, 'Fa': 2, 'Po':1})\n",
    "    df['exter_cond'] = df['exter_cond'].map({'Ex': 5, 'Gd': 4, 'TA': 3, 'Fa': 2, 'Po':1})\n",
    "    df['bsmt_qual'] = df['bsmt_qual'].map({'Ex': 5, 'Gd': 4, 'TA': 3, 'Fa': 2, 'Po':1, 'NA':0, np.nan:0})\n",
    "    df['bsmt_cond'] = df['bsmt_cond'].map({'Ex': 5, 'Gd': 4, 'TA': 3, 'Fa': 2, 'Po':1, 'NA':0, np.nan:0})\n",
    "    df['bsmt_exposure'] = df['bsmt_exposure'].map({'Gd': 4, 'Av': 3, 'Mn': 2, 'No':1, 'NA':0, np.nan:0})\n",
    "    df['bsmtfin_type_1'] = df['bsmtfin_type_1'].map({'GLQ': 6, 'ALQ': 5, 'BLQ': 4, 'Rec': 3, 'LwQ': 2, 'Unf':1, 'NA':0, np.nan:0})\n",
    "    df['bsmtfin_type_2'] = df['bsmtfin_type_2'].map({'GLQ': 6, 'ALQ': 5, 'BLQ': 4, 'Rec': 3, 'LwQ': 2, 'Unf':1, 'NA':0, np.nan:0})\n",
    "    df['heating_qc'] = df['heating_qc'].map({'Ex': 5, 'Gd': 4, 'TA': 3, 'Fa': 2, 'Po':1})\n",
    "    df['electrical'] = df['electrical'].map({'SBrkr': 5, 'FuseA': 4, 'FuseF': 3, 'FuseP': 2, 'Mix':1})\n",
    "    df['kitchen_qual'] = df['kitchen_qual'].map({'Ex': 5, 'Gd': 4, 'TA': 3, 'Fa': 2, 'Po':1})\n",
    "    df['functional'] = df['functional'].map({'Typ': 8, 'Min1': 7, 'Min2': 6, 'Mod': 5, 'Maj1': 4, 'Maj2': 3, 'Sev': 2, 'Sal':1})\n",
    "    df['garage_finish'] = df['garage_finish'].map({'Fin': 3, 'RFn': 2, 'Unf':1, 'NA':0, np.nan:0})\n",
    "    df['garage_qual'] = df['garage_qual'].map({'Ex': 5, 'Gd': 4, 'TA': 3, 'Fa': 2, 'Po':1, 'NA':0, np.nan:0})\n",
    "    df['garage_cond'] = df['garage_cond'].map({'Ex': 5, 'Gd': 4, 'TA': 3, 'Fa': 2, 'Po':1, 'NA':0, np.nan:0})\n",
    "    df['paved_drive'] = df['paved_drive'].map({'Y': 3, 'P': 2, 'N':1})\n",
    "    return df"
   ]
  },
  {
   "cell_type": "code",
   "execution_count": 15,
   "metadata": {},
   "outputs": [],
   "source": [
    "df_train = convert_ordinal_variables(df_train)"
   ]
  },
  {
   "cell_type": "code",
   "execution_count": 16,
   "metadata": {},
   "outputs": [
    {
     "name": "stdout",
     "output_type": "stream",
     "text": [
      "<class 'pandas.core.frame.DataFrame'>\n",
      "RangeIndex: 2049 entries, 0 to 2048\n",
      "Data columns (total 74 columns):\n",
      " #   Column           Non-Null Count  Dtype  \n",
      "---  ------           --------------  -----  \n",
      " 0   ms_subclass      2049 non-null   int64  \n",
      " 1   ms_zoning        2049 non-null   object \n",
      " 2   lot_frontage     2049 non-null   float64\n",
      " 3   lot_area         2049 non-null   int64  \n",
      " 4   street           2049 non-null   object \n",
      " 5   lot_shape        2049 non-null   int64  \n",
      " 6   land_contour     2049 non-null   object \n",
      " 7   utilities        2049 non-null   int64  \n",
      " 8   lot_config       2049 non-null   object \n",
      " 9   land_slope       2049 non-null   int64  \n",
      " 10  neighborhood     2049 non-null   object \n",
      " 11  condition_1      2049 non-null   object \n",
      " 12  condition_2      2049 non-null   object \n",
      " 13  bldg_type        2049 non-null   object \n",
      " 14  house_style      2049 non-null   object \n",
      " 15  overall_qual     2049 non-null   int64  \n",
      " 16  overall_cond     2049 non-null   int64  \n",
      " 17  year_built       2049 non-null   int64  \n",
      " 18  year_remod/add   2049 non-null   int64  \n",
      " 19  roof_style       2049 non-null   object \n",
      " 20  roof_matl        2049 non-null   object \n",
      " 21  exterior_1st     2049 non-null   object \n",
      " 22  exterior_2nd     2049 non-null   object \n",
      " 23  mas_vnr_type     2049 non-null   object \n",
      " 24  mas_vnr_area     2049 non-null   float64\n",
      " 25  exter_qual       2049 non-null   int64  \n",
      " 26  exter_cond       2049 non-null   int64  \n",
      " 27  foundation       2049 non-null   object \n",
      " 28  bsmt_qual        2049 non-null   int64  \n",
      " 29  bsmt_cond        2049 non-null   int64  \n",
      " 30  bsmt_exposure    2049 non-null   int64  \n",
      " 31  bsmtfin_type_1   2049 non-null   int64  \n",
      " 32  bsmtfin_sf_1     2049 non-null   float64\n",
      " 33  bsmtfin_type_2   2049 non-null   int64  \n",
      " 34  bsmtfin_sf_2     2049 non-null   float64\n",
      " 35  bsmt_unf_sf      2049 non-null   float64\n",
      " 36  total_bsmt_sf    2049 non-null   float64\n",
      " 37  heating          2049 non-null   object \n",
      " 38  heating_qc       2049 non-null   int64  \n",
      " 39  central_air      2049 non-null   int64  \n",
      " 40  electrical       2049 non-null   int64  \n",
      " 41  1st_flr_sf       2049 non-null   int64  \n",
      " 42  2nd_flr_sf       2049 non-null   int64  \n",
      " 43  low_qual_fin_sf  2049 non-null   int64  \n",
      " 44  gr_liv_area      2049 non-null   int64  \n",
      " 45  bsmt_full_bath   2049 non-null   float64\n",
      " 46  bsmt_half_bath   2049 non-null   float64\n",
      " 47  full_bath        2049 non-null   int64  \n",
      " 48  half_bath        2049 non-null   int64  \n",
      " 49  bedroom_abvgr    2049 non-null   int64  \n",
      " 50  kitchen_abvgr    2049 non-null   int64  \n",
      " 51  kitchen_qual     2049 non-null   int64  \n",
      " 52  totrms_abvgrd    2049 non-null   int64  \n",
      " 53  functional       2049 non-null   int64  \n",
      " 54  fireplaces       2049 non-null   int64  \n",
      " 55  garage_type      1936 non-null   object \n",
      " 56  garage_yr_blt    2049 non-null   float64\n",
      " 57  garage_finish    2049 non-null   int64  \n",
      " 58  garage_cars      2049 non-null   float64\n",
      " 59  garage_area      2049 non-null   float64\n",
      " 60  garage_qual      2049 non-null   int64  \n",
      " 61  garage_cond      2049 non-null   int64  \n",
      " 62  paved_drive      2049 non-null   int64  \n",
      " 63  wood_deck_sf     2049 non-null   int64  \n",
      " 64  open_porch_sf    2049 non-null   int64  \n",
      " 65  enclosed_porch   2049 non-null   int64  \n",
      " 66  3ssn_porch       2049 non-null   int64  \n",
      " 67  screen_porch     2049 non-null   int64  \n",
      " 68  pool_area        2049 non-null   int64  \n",
      " 69  misc_val         2049 non-null   int64  \n",
      " 70  mo_sold          2049 non-null   int64  \n",
      " 71  yr_sold          2049 non-null   int64  \n",
      " 72  sale_type        2049 non-null   object \n",
      " 73  saleprice        2049 non-null   int64  \n",
      "dtypes: float64(11), int64(45), object(18)\n",
      "memory usage: 1.2+ MB\n"
     ]
    }
   ],
   "source": [
    "df_train.info()"
   ]
  },
  {
   "cell_type": "code",
   "execution_count": 17,
   "metadata": {},
   "outputs": [
    {
     "name": "stdout",
     "output_type": "stream",
     "text": [
      "113\n",
      "True\n"
     ]
    }
   ],
   "source": [
    "df_null_values(df_train)"
   ]
  },
  {
   "cell_type": "code",
   "execution_count": 18,
   "metadata": {},
   "outputs": [],
   "source": [
    "df_test = convert_ordinal_variables(df_test)"
   ]
  },
  {
   "cell_type": "code",
   "execution_count": 19,
   "metadata": {},
   "outputs": [
    {
     "name": "stdout",
     "output_type": "stream",
     "text": [
      "<class 'pandas.core.frame.DataFrame'>\n",
      "RangeIndex: 878 entries, 0 to 877\n",
      "Data columns (total 73 columns):\n",
      " #   Column           Non-Null Count  Dtype  \n",
      "---  ------           --------------  -----  \n",
      " 0   ms_subclass      878 non-null    int64  \n",
      " 1   ms_zoning        878 non-null    object \n",
      " 2   lot_frontage     878 non-null    float64\n",
      " 3   lot_area         878 non-null    int64  \n",
      " 4   street           878 non-null    object \n",
      " 5   lot_shape        878 non-null    int64  \n",
      " 6   land_contour     878 non-null    object \n",
      " 7   utilities        878 non-null    int64  \n",
      " 8   lot_config       878 non-null    object \n",
      " 9   land_slope       878 non-null    int64  \n",
      " 10  neighborhood     878 non-null    object \n",
      " 11  condition_1      878 non-null    object \n",
      " 12  condition_2      878 non-null    object \n",
      " 13  bldg_type        878 non-null    object \n",
      " 14  house_style      878 non-null    object \n",
      " 15  overall_qual     878 non-null    int64  \n",
      " 16  overall_cond     878 non-null    int64  \n",
      " 17  year_built       878 non-null    int64  \n",
      " 18  year_remod/add   878 non-null    int64  \n",
      " 19  roof_style       878 non-null    object \n",
      " 20  roof_matl        878 non-null    object \n",
      " 21  exterior_1st     878 non-null    object \n",
      " 22  exterior_2nd     878 non-null    object \n",
      " 23  mas_vnr_type     878 non-null    object \n",
      " 24  mas_vnr_area     878 non-null    float64\n",
      " 25  exter_qual       878 non-null    int64  \n",
      " 26  exter_cond       878 non-null    int64  \n",
      " 27  foundation       878 non-null    object \n",
      " 28  bsmt_qual        878 non-null    int64  \n",
      " 29  bsmt_cond        878 non-null    int64  \n",
      " 30  bsmt_exposure    878 non-null    int64  \n",
      " 31  bsmtfin_type_1   878 non-null    int64  \n",
      " 32  bsmtfin_sf_1     878 non-null    int64  \n",
      " 33  bsmtfin_type_2   878 non-null    int64  \n",
      " 34  bsmtfin_sf_2     878 non-null    int64  \n",
      " 35  bsmt_unf_sf      878 non-null    int64  \n",
      " 36  total_bsmt_sf    878 non-null    int64  \n",
      " 37  heating          878 non-null    object \n",
      " 38  heating_qc       878 non-null    int64  \n",
      " 39  central_air      878 non-null    int64  \n",
      " 40  electrical       878 non-null    int64  \n",
      " 41  1st_flr_sf       878 non-null    int64  \n",
      " 42  2nd_flr_sf       878 non-null    int64  \n",
      " 43  low_qual_fin_sf  878 non-null    int64  \n",
      " 44  gr_liv_area      878 non-null    int64  \n",
      " 45  bsmt_full_bath   878 non-null    int64  \n",
      " 46  bsmt_half_bath   878 non-null    int64  \n",
      " 47  full_bath        878 non-null    int64  \n",
      " 48  half_bath        878 non-null    int64  \n",
      " 49  bedroom_abvgr    878 non-null    int64  \n",
      " 50  kitchen_abvgr    878 non-null    int64  \n",
      " 51  kitchen_qual     878 non-null    int64  \n",
      " 52  totrms_abvgrd    878 non-null    int64  \n",
      " 53  functional       878 non-null    int64  \n",
      " 54  fireplaces       878 non-null    int64  \n",
      " 55  garage_type      834 non-null    object \n",
      " 56  garage_yr_blt    878 non-null    float64\n",
      " 57  garage_finish    878 non-null    int64  \n",
      " 58  garage_cars      878 non-null    int64  \n",
      " 59  garage_area      878 non-null    int64  \n",
      " 60  garage_qual      878 non-null    int64  \n",
      " 61  garage_cond      878 non-null    int64  \n",
      " 62  paved_drive      878 non-null    int64  \n",
      " 63  wood_deck_sf     878 non-null    int64  \n",
      " 64  open_porch_sf    878 non-null    int64  \n",
      " 65  enclosed_porch   878 non-null    int64  \n",
      " 66  3ssn_porch       878 non-null    int64  \n",
      " 67  screen_porch     878 non-null    int64  \n",
      " 68  pool_area        878 non-null    int64  \n",
      " 69  misc_val         878 non-null    int64  \n",
      " 70  mo_sold          878 non-null    int64  \n",
      " 71  yr_sold          878 non-null    int64  \n",
      " 72  sale_type        878 non-null    object \n",
      "dtypes: float64(3), int64(52), object(18)\n",
      "memory usage: 500.9+ KB\n"
     ]
    }
   ],
   "source": [
    "df_test.info()"
   ]
  },
  {
   "cell_type": "code",
   "execution_count": 20,
   "metadata": {},
   "outputs": [
    {
     "name": "stdout",
     "output_type": "stream",
     "text": [
      "44\n",
      "True\n"
     ]
    }
   ],
   "source": [
    "df_null_values(df_test)"
   ]
  },
  {
   "cell_type": "markdown",
   "metadata": {},
   "source": [
    "### OHE Categorical Variables"
   ]
  },
  {
   "cell_type": "code",
   "execution_count": 21,
   "metadata": {},
   "outputs": [],
   "source": [
    "def convert_nominal_variables(df):\n",
    "    df_ms_subclass = pd.get_dummies(df['ms_subclass'], prefix = 'ms_subclass', drop_first = True)\n",
    "    df_ms_zoning = pd.get_dummies(df['ms_zoning'], prefix = 'ms_zoning', drop_first = True)\n",
    "    df_street = pd.get_dummies(df['street'], prefix = 'street', drop_first = True)\n",
    "    df_land_contour = pd.get_dummies(df['land_contour'], prefix = 'land_contour', drop_first = True)\n",
    "    df_lot_config = pd.get_dummies(df['lot_config'], prefix = 'lot_config', drop_first = True)\n",
    "    df_neighborhood = pd.get_dummies(df['neighborhood'], prefix = 'neighborhood')\n",
    "    df_condition_1 = pd.get_dummies(df['condition_1'], prefix = 'condition_1', drop_first = True)\n",
    "    df_condition_2 = pd.get_dummies(df['condition_2'], prefix = 'condition_2', drop_first = True)\n",
    "    df_bldg_type = pd.get_dummies(df['bldg_type'], prefix = 'bldg_type', drop_first = True)\n",
    "    df_house_style = pd.get_dummies(df['house_style'], prefix = 'house_style', drop_first = True)\n",
    "    df_roof_style = pd.get_dummies(df['roof_style'], prefix = 'roof_style', drop_first = True)\n",
    "    df_roof_matl = pd.get_dummies(df['roof_matl'], prefix = 'roof_matl', drop_first = True)\n",
    "    df_exterior_1st = pd.get_dummies(df['exterior_1st'], prefix = 'exterior_1st', drop_first = True)\n",
    "    df_exterior_2nd = pd.get_dummies(df['exterior_2nd'], prefix = 'exterior_2nd', drop_first = True)\n",
    "    df_mas_vnr_type = pd.get_dummies(df['mas_vnr_type'], prefix = 'mas_vnr_type', drop_first = True)\n",
    "    df_foundation = pd.get_dummies(df['foundation'], prefix = 'foundation', drop_first = True)\n",
    "    df_heating = pd.get_dummies(df['heating'], prefix = 'heating', drop_first = True)\n",
    "    df_garage_type = pd.get_dummies(df['garage_type'], prefix = 'garage_type', drop_first = True)\n",
    "    df_sale_type = pd.get_dummies(df['sale_type'], prefix = 'sale_type', drop_first = True)\n",
    "    df = pd.concat([df, df_ms_subclass, df_street, \n",
    "                    df_land_contour, df_lot_config, \n",
    "                    df_neighborhood, df_condition_1, \n",
    "                    df_condition_2, df_bldg_type, \n",
    "                    df_house_style, df_roof_style, \n",
    "                    df_roof_matl, df_exterior_1st,\n",
    "                    df_exterior_2nd, df_mas_vnr_type,\n",
    "                    df_foundation, df_heating,\n",
    "                    df_garage_type, df_sale_type], axis = 1, join = 'outer')\n",
    "    df.drop(['ms_zoning', 'ms_subclass', \n",
    "             'street', 'land_contour', \n",
    "             'lot_config', 'neighborhood', \n",
    "             'condition_1', 'condition_2', \n",
    "             'bldg_type', 'house_style',\n",
    "             'roof_style', 'roof_matl',\n",
    "             'exterior_1st', 'exterior_2nd',\n",
    "             'mas_vnr_type', 'foundation',\n",
    "             'heating', 'garage_type', \n",
    "             'sale_type'], axis=1, inplace=True)\n",
    "    return df"
   ]
  },
  {
   "cell_type": "code",
   "execution_count": 22,
   "metadata": {},
   "outputs": [],
   "source": [
    "df_train = convert_nominal_variables(df_train)"
   ]
  },
  {
   "cell_type": "code",
   "execution_count": 23,
   "metadata": {},
   "outputs": [
    {
     "name": "stdout",
     "output_type": "stream",
     "text": [
      "<class 'pandas.core.frame.DataFrame'>\n",
      "RangeIndex: 2049 entries, 0 to 2048\n",
      "Columns: 194 entries, lot_frontage to sale_type_WD \n",
      "dtypes: float64(11), int64(44), uint8(139)\n",
      "memory usage: 1.1 MB\n"
     ]
    }
   ],
   "source": [
    "df_train.info()"
   ]
  },
  {
   "cell_type": "code",
   "execution_count": 24,
   "metadata": {},
   "outputs": [
    {
     "name": "stdout",
     "output_type": "stream",
     "text": [
      "0\n",
      "False\n"
     ]
    }
   ],
   "source": [
    "df_null_values(df_train)"
   ]
  },
  {
   "cell_type": "code",
   "execution_count": 25,
   "metadata": {},
   "outputs": [],
   "source": [
    "df_test = convert_nominal_variables(df_test)"
   ]
  },
  {
   "cell_type": "code",
   "execution_count": 26,
   "metadata": {},
   "outputs": [
    {
     "name": "stdout",
     "output_type": "stream",
     "text": [
      "<class 'pandas.core.frame.DataFrame'>\n",
      "RangeIndex: 878 entries, 0 to 877\n",
      "Columns: 186 entries, lot_frontage to sale_type_WD \n",
      "dtypes: float64(3), int64(51), uint8(132)\n",
      "memory usage: 483.7 KB\n"
     ]
    }
   ],
   "source": [
    "df_test.info()"
   ]
  },
  {
   "cell_type": "code",
   "execution_count": 27,
   "metadata": {},
   "outputs": [
    {
     "name": "stdout",
     "output_type": "stream",
     "text": [
      "0\n",
      "False\n"
     ]
    }
   ],
   "source": [
    "df_null_values(df_test)"
   ]
  },
  {
   "cell_type": "code",
   "execution_count": 28,
   "metadata": {},
   "outputs": [
    {
     "name": "stdout",
     "output_type": "stream",
     "text": [
      "(2049, 194)\n",
      "(878, 186)\n"
     ]
    }
   ],
   "source": [
    "df_shape(df_train, df_test)"
   ]
  },
  {
   "cell_type": "code",
   "execution_count": 29,
   "metadata": {},
   "outputs": [
    {
     "data": {
      "text/plain": [
       "{'condition_2_Feedr',\n",
       " 'condition_2_PosN',\n",
       " 'condition_2_RRAe',\n",
       " 'condition_2_RRAn',\n",
       " 'condition_2_RRNn',\n",
       " 'exterior_1st_CBlock',\n",
       " 'exterior_1st_ImStucc',\n",
       " 'exterior_1st_Stone',\n",
       " 'exterior_2nd_Stone',\n",
       " 'heating_OthW',\n",
       " 'heating_Wall',\n",
       " 'ms_subclass_150',\n",
       " 'neighborhood_GrnHill',\n",
       " 'neighborhood_Landmrk',\n",
       " 'roof_matl_Membran',\n",
       " 'saleprice'}"
      ]
     },
     "execution_count": 29,
     "metadata": {},
     "output_type": "execute_result"
    }
   ],
   "source": [
    "# checking the difference (non-symmetrical)\n",
    "set(df_train.columns) - set(df_test.columns)"
   ]
  },
  {
   "cell_type": "code",
   "execution_count": 30,
   "metadata": {},
   "outputs": [
    {
     "data": {
      "text/plain": [
       "{'exterior_1st_PreCast',\n",
       " 'exterior_2nd_Other',\n",
       " 'exterior_2nd_PreCast',\n",
       " 'heating_GasA',\n",
       " 'mas_vnr_type_CBlock',\n",
       " 'roof_matl_Metal',\n",
       " 'roof_matl_Roll',\n",
       " 'sale_type_VWD'}"
      ]
     },
     "execution_count": 30,
     "metadata": {},
     "output_type": "execute_result"
    }
   ],
   "source": [
    "# checking the difference (non-symmetrical)\n",
    "set(df_test.columns) - set(df_train.columns)"
   ]
  },
  {
   "cell_type": "code",
   "execution_count": 31,
   "metadata": {},
   "outputs": [
    {
     "data": {
      "text/html": [
       "<div>\n",
       "<style scoped>\n",
       "    .dataframe tbody tr th:only-of-type {\n",
       "        vertical-align: middle;\n",
       "    }\n",
       "\n",
       "    .dataframe tbody tr th {\n",
       "        vertical-align: top;\n",
       "    }\n",
       "\n",
       "    .dataframe thead th {\n",
       "        text-align: right;\n",
       "    }\n",
       "</style>\n",
       "<table border=\"1\" class=\"dataframe\">\n",
       "  <thead>\n",
       "    <tr style=\"text-align: right;\">\n",
       "      <th></th>\n",
       "      <th>lot_frontage</th>\n",
       "      <th>lot_area</th>\n",
       "      <th>lot_shape</th>\n",
       "      <th>utilities</th>\n",
       "      <th>land_slope</th>\n",
       "      <th>overall_qual</th>\n",
       "      <th>overall_cond</th>\n",
       "      <th>year_built</th>\n",
       "      <th>year_remod/add</th>\n",
       "      <th>mas_vnr_area</th>\n",
       "      <th>...</th>\n",
       "      <th>garage_type_CarPort</th>\n",
       "      <th>garage_type_Detchd</th>\n",
       "      <th>sale_type_CWD</th>\n",
       "      <th>sale_type_Con</th>\n",
       "      <th>sale_type_ConLD</th>\n",
       "      <th>sale_type_ConLI</th>\n",
       "      <th>sale_type_ConLw</th>\n",
       "      <th>sale_type_New</th>\n",
       "      <th>sale_type_Oth</th>\n",
       "      <th>sale_type_WD</th>\n",
       "    </tr>\n",
       "  </thead>\n",
       "  <tbody>\n",
       "    <tr>\n",
       "      <th>0</th>\n",
       "      <td>68.878999</td>\n",
       "      <td>13517</td>\n",
       "      <td>3</td>\n",
       "      <td>4</td>\n",
       "      <td>3</td>\n",
       "      <td>6</td>\n",
       "      <td>8</td>\n",
       "      <td>1976</td>\n",
       "      <td>2005</td>\n",
       "      <td>289.0</td>\n",
       "      <td>...</td>\n",
       "      <td>0</td>\n",
       "      <td>0</td>\n",
       "      <td>0</td>\n",
       "      <td>0</td>\n",
       "      <td>0</td>\n",
       "      <td>0</td>\n",
       "      <td>0</td>\n",
       "      <td>0</td>\n",
       "      <td>0</td>\n",
       "      <td>1</td>\n",
       "    </tr>\n",
       "    <tr>\n",
       "      <th>1</th>\n",
       "      <td>43.000000</td>\n",
       "      <td>11492</td>\n",
       "      <td>3</td>\n",
       "      <td>4</td>\n",
       "      <td>3</td>\n",
       "      <td>7</td>\n",
       "      <td>5</td>\n",
       "      <td>1996</td>\n",
       "      <td>1997</td>\n",
       "      <td>132.0</td>\n",
       "      <td>...</td>\n",
       "      <td>0</td>\n",
       "      <td>0</td>\n",
       "      <td>0</td>\n",
       "      <td>0</td>\n",
       "      <td>0</td>\n",
       "      <td>0</td>\n",
       "      <td>0</td>\n",
       "      <td>0</td>\n",
       "      <td>0</td>\n",
       "      <td>1</td>\n",
       "    </tr>\n",
       "    <tr>\n",
       "      <th>2</th>\n",
       "      <td>68.000000</td>\n",
       "      <td>7922</td>\n",
       "      <td>4</td>\n",
       "      <td>4</td>\n",
       "      <td>3</td>\n",
       "      <td>5</td>\n",
       "      <td>7</td>\n",
       "      <td>1953</td>\n",
       "      <td>2007</td>\n",
       "      <td>0.0</td>\n",
       "      <td>...</td>\n",
       "      <td>0</td>\n",
       "      <td>1</td>\n",
       "      <td>0</td>\n",
       "      <td>0</td>\n",
       "      <td>0</td>\n",
       "      <td>0</td>\n",
       "      <td>0</td>\n",
       "      <td>0</td>\n",
       "      <td>0</td>\n",
       "      <td>1</td>\n",
       "    </tr>\n",
       "    <tr>\n",
       "      <th>3</th>\n",
       "      <td>73.000000</td>\n",
       "      <td>9802</td>\n",
       "      <td>4</td>\n",
       "      <td>4</td>\n",
       "      <td>3</td>\n",
       "      <td>5</td>\n",
       "      <td>5</td>\n",
       "      <td>2006</td>\n",
       "      <td>2007</td>\n",
       "      <td>0.0</td>\n",
       "      <td>...</td>\n",
       "      <td>0</td>\n",
       "      <td>0</td>\n",
       "      <td>0</td>\n",
       "      <td>0</td>\n",
       "      <td>0</td>\n",
       "      <td>0</td>\n",
       "      <td>0</td>\n",
       "      <td>0</td>\n",
       "      <td>0</td>\n",
       "      <td>1</td>\n",
       "    </tr>\n",
       "    <tr>\n",
       "      <th>4</th>\n",
       "      <td>82.000000</td>\n",
       "      <td>14235</td>\n",
       "      <td>3</td>\n",
       "      <td>4</td>\n",
       "      <td>3</td>\n",
       "      <td>6</td>\n",
       "      <td>8</td>\n",
       "      <td>1900</td>\n",
       "      <td>1993</td>\n",
       "      <td>0.0</td>\n",
       "      <td>...</td>\n",
       "      <td>0</td>\n",
       "      <td>1</td>\n",
       "      <td>0</td>\n",
       "      <td>0</td>\n",
       "      <td>0</td>\n",
       "      <td>0</td>\n",
       "      <td>0</td>\n",
       "      <td>0</td>\n",
       "      <td>0</td>\n",
       "      <td>1</td>\n",
       "    </tr>\n",
       "    <tr>\n",
       "      <th>...</th>\n",
       "      <td>...</td>\n",
       "      <td>...</td>\n",
       "      <td>...</td>\n",
       "      <td>...</td>\n",
       "      <td>...</td>\n",
       "      <td>...</td>\n",
       "      <td>...</td>\n",
       "      <td>...</td>\n",
       "      <td>...</td>\n",
       "      <td>...</td>\n",
       "      <td>...</td>\n",
       "      <td>...</td>\n",
       "      <td>...</td>\n",
       "      <td>...</td>\n",
       "      <td>...</td>\n",
       "      <td>...</td>\n",
       "      <td>...</td>\n",
       "      <td>...</td>\n",
       "      <td>...</td>\n",
       "      <td>...</td>\n",
       "      <td>...</td>\n",
       "    </tr>\n",
       "    <tr>\n",
       "      <th>2044</th>\n",
       "      <td>79.000000</td>\n",
       "      <td>11449</td>\n",
       "      <td>3</td>\n",
       "      <td>4</td>\n",
       "      <td>3</td>\n",
       "      <td>8</td>\n",
       "      <td>5</td>\n",
       "      <td>2007</td>\n",
       "      <td>2007</td>\n",
       "      <td>0.0</td>\n",
       "      <td>...</td>\n",
       "      <td>0</td>\n",
       "      <td>0</td>\n",
       "      <td>0</td>\n",
       "      <td>0</td>\n",
       "      <td>0</td>\n",
       "      <td>0</td>\n",
       "      <td>0</td>\n",
       "      <td>0</td>\n",
       "      <td>0</td>\n",
       "      <td>1</td>\n",
       "    </tr>\n",
       "    <tr>\n",
       "      <th>2045</th>\n",
       "      <td>68.878999</td>\n",
       "      <td>12342</td>\n",
       "      <td>3</td>\n",
       "      <td>4</td>\n",
       "      <td>3</td>\n",
       "      <td>4</td>\n",
       "      <td>5</td>\n",
       "      <td>1940</td>\n",
       "      <td>1950</td>\n",
       "      <td>0.0</td>\n",
       "      <td>...</td>\n",
       "      <td>0</td>\n",
       "      <td>1</td>\n",
       "      <td>0</td>\n",
       "      <td>0</td>\n",
       "      <td>0</td>\n",
       "      <td>0</td>\n",
       "      <td>0</td>\n",
       "      <td>0</td>\n",
       "      <td>0</td>\n",
       "      <td>1</td>\n",
       "    </tr>\n",
       "    <tr>\n",
       "      <th>2046</th>\n",
       "      <td>57.000000</td>\n",
       "      <td>7558</td>\n",
       "      <td>4</td>\n",
       "      <td>4</td>\n",
       "      <td>3</td>\n",
       "      <td>6</td>\n",
       "      <td>6</td>\n",
       "      <td>1928</td>\n",
       "      <td>1950</td>\n",
       "      <td>0.0</td>\n",
       "      <td>...</td>\n",
       "      <td>0</td>\n",
       "      <td>1</td>\n",
       "      <td>0</td>\n",
       "      <td>0</td>\n",
       "      <td>0</td>\n",
       "      <td>0</td>\n",
       "      <td>0</td>\n",
       "      <td>0</td>\n",
       "      <td>0</td>\n",
       "      <td>1</td>\n",
       "    </tr>\n",
       "    <tr>\n",
       "      <th>2047</th>\n",
       "      <td>80.000000</td>\n",
       "      <td>10400</td>\n",
       "      <td>4</td>\n",
       "      <td>4</td>\n",
       "      <td>3</td>\n",
       "      <td>4</td>\n",
       "      <td>5</td>\n",
       "      <td>1956</td>\n",
       "      <td>1956</td>\n",
       "      <td>0.0</td>\n",
       "      <td>...</td>\n",
       "      <td>0</td>\n",
       "      <td>0</td>\n",
       "      <td>0</td>\n",
       "      <td>0</td>\n",
       "      <td>0</td>\n",
       "      <td>0</td>\n",
       "      <td>0</td>\n",
       "      <td>0</td>\n",
       "      <td>0</td>\n",
       "      <td>1</td>\n",
       "    </tr>\n",
       "    <tr>\n",
       "      <th>2048</th>\n",
       "      <td>60.000000</td>\n",
       "      <td>7500</td>\n",
       "      <td>4</td>\n",
       "      <td>4</td>\n",
       "      <td>3</td>\n",
       "      <td>7</td>\n",
       "      <td>5</td>\n",
       "      <td>1999</td>\n",
       "      <td>1999</td>\n",
       "      <td>0.0</td>\n",
       "      <td>...</td>\n",
       "      <td>0</td>\n",
       "      <td>0</td>\n",
       "      <td>0</td>\n",
       "      <td>0</td>\n",
       "      <td>0</td>\n",
       "      <td>0</td>\n",
       "      <td>0</td>\n",
       "      <td>0</td>\n",
       "      <td>0</td>\n",
       "      <td>1</td>\n",
       "    </tr>\n",
       "  </tbody>\n",
       "</table>\n",
       "<p>2049 rows × 179 columns</p>\n",
       "</div>"
      ],
      "text/plain": [
       "      lot_frontage  lot_area  lot_shape  utilities  land_slope  overall_qual  \\\n",
       "0        68.878999     13517          3          4           3             6   \n",
       "1        43.000000     11492          3          4           3             7   \n",
       "2        68.000000      7922          4          4           3             5   \n",
       "3        73.000000      9802          4          4           3             5   \n",
       "4        82.000000     14235          3          4           3             6   \n",
       "...            ...       ...        ...        ...         ...           ...   \n",
       "2044     79.000000     11449          3          4           3             8   \n",
       "2045     68.878999     12342          3          4           3             4   \n",
       "2046     57.000000      7558          4          4           3             6   \n",
       "2047     80.000000     10400          4          4           3             4   \n",
       "2048     60.000000      7500          4          4           3             7   \n",
       "\n",
       "      overall_cond  year_built  year_remod/add  mas_vnr_area  ...  \\\n",
       "0                8        1976            2005         289.0  ...   \n",
       "1                5        1996            1997         132.0  ...   \n",
       "2                7        1953            2007           0.0  ...   \n",
       "3                5        2006            2007           0.0  ...   \n",
       "4                8        1900            1993           0.0  ...   \n",
       "...            ...         ...             ...           ...  ...   \n",
       "2044             5        2007            2007           0.0  ...   \n",
       "2045             5        1940            1950           0.0  ...   \n",
       "2046             6        1928            1950           0.0  ...   \n",
       "2047             5        1956            1956           0.0  ...   \n",
       "2048             5        1999            1999           0.0  ...   \n",
       "\n",
       "      garage_type_CarPort  garage_type_Detchd  sale_type_CWD  sale_type_Con  \\\n",
       "0                       0                   0              0              0   \n",
       "1                       0                   0              0              0   \n",
       "2                       0                   1              0              0   \n",
       "3                       0                   0              0              0   \n",
       "4                       0                   1              0              0   \n",
       "...                   ...                 ...            ...            ...   \n",
       "2044                    0                   0              0              0   \n",
       "2045                    0                   1              0              0   \n",
       "2046                    0                   1              0              0   \n",
       "2047                    0                   0              0              0   \n",
       "2048                    0                   0              0              0   \n",
       "\n",
       "      sale_type_ConLD  sale_type_ConLI  sale_type_ConLw  sale_type_New  \\\n",
       "0                   0                0                0              0   \n",
       "1                   0                0                0              0   \n",
       "2                   0                0                0              0   \n",
       "3                   0                0                0              0   \n",
       "4                   0                0                0              0   \n",
       "...               ...              ...              ...            ...   \n",
       "2044                0                0                0              0   \n",
       "2045                0                0                0              0   \n",
       "2046                0                0                0              0   \n",
       "2047                0                0                0              0   \n",
       "2048                0                0                0              0   \n",
       "\n",
       "      sale_type_Oth  sale_type_WD   \n",
       "0                 0              1  \n",
       "1                 0              1  \n",
       "2                 0              1  \n",
       "3                 0              1  \n",
       "4                 0              1  \n",
       "...             ...            ...  \n",
       "2044              0              1  \n",
       "2045              0              1  \n",
       "2046              0              1  \n",
       "2047              0              1  \n",
       "2048              0              1  \n",
       "\n",
       "[2049 rows x 179 columns]"
      ]
     },
     "execution_count": 31,
     "metadata": {},
     "output_type": "execute_result"
    }
   ],
   "source": [
    "# dropping columns in training set as the two datasets need to contain the same features\n",
    "df_train = df_train.drop(columns=['condition_2_Feedr',\n",
    " 'condition_2_PosN',\n",
    " 'condition_2_RRAe',\n",
    " 'condition_2_RRAn',\n",
    " 'condition_2_RRNn',\n",
    " 'exterior_1st_CBlock',\n",
    " 'exterior_1st_ImStucc',\n",
    " 'exterior_1st_Stone',\n",
    " 'exterior_2nd_Stone',\n",
    " 'heating_OthW',\n",
    " 'heating_Wall',\n",
    " 'ms_subclass_150',\n",
    " 'neighborhood_GrnHill',\n",
    " 'neighborhood_Landmrk',\n",
    " 'roof_matl_Membran',])\n",
    "df_train"
   ]
  },
  {
   "cell_type": "code",
   "execution_count": 32,
   "metadata": {},
   "outputs": [
    {
     "data": {
      "text/html": [
       "<div>\n",
       "<style scoped>\n",
       "    .dataframe tbody tr th:only-of-type {\n",
       "        vertical-align: middle;\n",
       "    }\n",
       "\n",
       "    .dataframe tbody tr th {\n",
       "        vertical-align: top;\n",
       "    }\n",
       "\n",
       "    .dataframe thead th {\n",
       "        text-align: right;\n",
       "    }\n",
       "</style>\n",
       "<table border=\"1\" class=\"dataframe\">\n",
       "  <thead>\n",
       "    <tr style=\"text-align: right;\">\n",
       "      <th></th>\n",
       "      <th>lot_frontage</th>\n",
       "      <th>lot_area</th>\n",
       "      <th>lot_shape</th>\n",
       "      <th>utilities</th>\n",
       "      <th>land_slope</th>\n",
       "      <th>overall_qual</th>\n",
       "      <th>overall_cond</th>\n",
       "      <th>year_built</th>\n",
       "      <th>year_remod/add</th>\n",
       "      <th>mas_vnr_area</th>\n",
       "      <th>...</th>\n",
       "      <th>garage_type_CarPort</th>\n",
       "      <th>garage_type_Detchd</th>\n",
       "      <th>sale_type_CWD</th>\n",
       "      <th>sale_type_Con</th>\n",
       "      <th>sale_type_ConLD</th>\n",
       "      <th>sale_type_ConLI</th>\n",
       "      <th>sale_type_ConLw</th>\n",
       "      <th>sale_type_New</th>\n",
       "      <th>sale_type_Oth</th>\n",
       "      <th>sale_type_WD</th>\n",
       "    </tr>\n",
       "  </thead>\n",
       "  <tbody>\n",
       "    <tr>\n",
       "      <th>0</th>\n",
       "      <td>69.000000</td>\n",
       "      <td>9142</td>\n",
       "      <td>4</td>\n",
       "      <td>4</td>\n",
       "      <td>3</td>\n",
       "      <td>6</td>\n",
       "      <td>8</td>\n",
       "      <td>1910</td>\n",
       "      <td>1950</td>\n",
       "      <td>0.0</td>\n",
       "      <td>...</td>\n",
       "      <td>0</td>\n",
       "      <td>1</td>\n",
       "      <td>0</td>\n",
       "      <td>0</td>\n",
       "      <td>0</td>\n",
       "      <td>0</td>\n",
       "      <td>0</td>\n",
       "      <td>0</td>\n",
       "      <td>0</td>\n",
       "      <td>1</td>\n",
       "    </tr>\n",
       "    <tr>\n",
       "      <th>1</th>\n",
       "      <td>69.545961</td>\n",
       "      <td>9662</td>\n",
       "      <td>3</td>\n",
       "      <td>4</td>\n",
       "      <td>3</td>\n",
       "      <td>5</td>\n",
       "      <td>4</td>\n",
       "      <td>1977</td>\n",
       "      <td>1977</td>\n",
       "      <td>0.0</td>\n",
       "      <td>...</td>\n",
       "      <td>0</td>\n",
       "      <td>0</td>\n",
       "      <td>0</td>\n",
       "      <td>0</td>\n",
       "      <td>0</td>\n",
       "      <td>0</td>\n",
       "      <td>0</td>\n",
       "      <td>0</td>\n",
       "      <td>0</td>\n",
       "      <td>1</td>\n",
       "    </tr>\n",
       "    <tr>\n",
       "      <th>2</th>\n",
       "      <td>58.000000</td>\n",
       "      <td>17104</td>\n",
       "      <td>3</td>\n",
       "      <td>4</td>\n",
       "      <td>3</td>\n",
       "      <td>7</td>\n",
       "      <td>5</td>\n",
       "      <td>2006</td>\n",
       "      <td>2006</td>\n",
       "      <td>0.0</td>\n",
       "      <td>...</td>\n",
       "      <td>0</td>\n",
       "      <td>0</td>\n",
       "      <td>0</td>\n",
       "      <td>0</td>\n",
       "      <td>0</td>\n",
       "      <td>0</td>\n",
       "      <td>0</td>\n",
       "      <td>1</td>\n",
       "      <td>0</td>\n",
       "      <td>0</td>\n",
       "    </tr>\n",
       "    <tr>\n",
       "      <th>3</th>\n",
       "      <td>60.000000</td>\n",
       "      <td>8520</td>\n",
       "      <td>4</td>\n",
       "      <td>4</td>\n",
       "      <td>3</td>\n",
       "      <td>5</td>\n",
       "      <td>6</td>\n",
       "      <td>1923</td>\n",
       "      <td>2006</td>\n",
       "      <td>0.0</td>\n",
       "      <td>...</td>\n",
       "      <td>0</td>\n",
       "      <td>1</td>\n",
       "      <td>0</td>\n",
       "      <td>0</td>\n",
       "      <td>0</td>\n",
       "      <td>0</td>\n",
       "      <td>0</td>\n",
       "      <td>0</td>\n",
       "      <td>0</td>\n",
       "      <td>1</td>\n",
       "    </tr>\n",
       "    <tr>\n",
       "      <th>4</th>\n",
       "      <td>69.545961</td>\n",
       "      <td>9500</td>\n",
       "      <td>3</td>\n",
       "      <td>4</td>\n",
       "      <td>3</td>\n",
       "      <td>6</td>\n",
       "      <td>5</td>\n",
       "      <td>1963</td>\n",
       "      <td>1963</td>\n",
       "      <td>247.0</td>\n",
       "      <td>...</td>\n",
       "      <td>0</td>\n",
       "      <td>0</td>\n",
       "      <td>0</td>\n",
       "      <td>0</td>\n",
       "      <td>0</td>\n",
       "      <td>0</td>\n",
       "      <td>0</td>\n",
       "      <td>0</td>\n",
       "      <td>0</td>\n",
       "      <td>1</td>\n",
       "    </tr>\n",
       "    <tr>\n",
       "      <th>...</th>\n",
       "      <td>...</td>\n",
       "      <td>...</td>\n",
       "      <td>...</td>\n",
       "      <td>...</td>\n",
       "      <td>...</td>\n",
       "      <td>...</td>\n",
       "      <td>...</td>\n",
       "      <td>...</td>\n",
       "      <td>...</td>\n",
       "      <td>...</td>\n",
       "      <td>...</td>\n",
       "      <td>...</td>\n",
       "      <td>...</td>\n",
       "      <td>...</td>\n",
       "      <td>...</td>\n",
       "      <td>...</td>\n",
       "      <td>...</td>\n",
       "      <td>...</td>\n",
       "      <td>...</td>\n",
       "      <td>...</td>\n",
       "      <td>...</td>\n",
       "    </tr>\n",
       "    <tr>\n",
       "      <th>873</th>\n",
       "      <td>80.000000</td>\n",
       "      <td>8000</td>\n",
       "      <td>4</td>\n",
       "      <td>4</td>\n",
       "      <td>3</td>\n",
       "      <td>6</td>\n",
       "      <td>6</td>\n",
       "      <td>1974</td>\n",
       "      <td>1974</td>\n",
       "      <td>0.0</td>\n",
       "      <td>...</td>\n",
       "      <td>0</td>\n",
       "      <td>0</td>\n",
       "      <td>0</td>\n",
       "      <td>0</td>\n",
       "      <td>0</td>\n",
       "      <td>0</td>\n",
       "      <td>0</td>\n",
       "      <td>0</td>\n",
       "      <td>0</td>\n",
       "      <td>1</td>\n",
       "    </tr>\n",
       "    <tr>\n",
       "      <th>874</th>\n",
       "      <td>90.000000</td>\n",
       "      <td>14670</td>\n",
       "      <td>4</td>\n",
       "      <td>4</td>\n",
       "      <td>3</td>\n",
       "      <td>6</td>\n",
       "      <td>7</td>\n",
       "      <td>1966</td>\n",
       "      <td>1999</td>\n",
       "      <td>410.0</td>\n",
       "      <td>...</td>\n",
       "      <td>0</td>\n",
       "      <td>0</td>\n",
       "      <td>0</td>\n",
       "      <td>0</td>\n",
       "      <td>0</td>\n",
       "      <td>0</td>\n",
       "      <td>0</td>\n",
       "      <td>0</td>\n",
       "      <td>0</td>\n",
       "      <td>1</td>\n",
       "    </tr>\n",
       "    <tr>\n",
       "      <th>875</th>\n",
       "      <td>55.000000</td>\n",
       "      <td>8250</td>\n",
       "      <td>4</td>\n",
       "      <td>4</td>\n",
       "      <td>3</td>\n",
       "      <td>5</td>\n",
       "      <td>5</td>\n",
       "      <td>1968</td>\n",
       "      <td>1968</td>\n",
       "      <td>0.0</td>\n",
       "      <td>...</td>\n",
       "      <td>0</td>\n",
       "      <td>0</td>\n",
       "      <td>0</td>\n",
       "      <td>0</td>\n",
       "      <td>0</td>\n",
       "      <td>0</td>\n",
       "      <td>0</td>\n",
       "      <td>0</td>\n",
       "      <td>0</td>\n",
       "      <td>1</td>\n",
       "    </tr>\n",
       "    <tr>\n",
       "      <th>876</th>\n",
       "      <td>60.000000</td>\n",
       "      <td>9000</td>\n",
       "      <td>4</td>\n",
       "      <td>4</td>\n",
       "      <td>3</td>\n",
       "      <td>4</td>\n",
       "      <td>6</td>\n",
       "      <td>1971</td>\n",
       "      <td>1971</td>\n",
       "      <td>0.0</td>\n",
       "      <td>...</td>\n",
       "      <td>0</td>\n",
       "      <td>1</td>\n",
       "      <td>0</td>\n",
       "      <td>0</td>\n",
       "      <td>0</td>\n",
       "      <td>0</td>\n",
       "      <td>0</td>\n",
       "      <td>0</td>\n",
       "      <td>0</td>\n",
       "      <td>1</td>\n",
       "    </tr>\n",
       "    <tr>\n",
       "      <th>877</th>\n",
       "      <td>70.000000</td>\n",
       "      <td>8400</td>\n",
       "      <td>4</td>\n",
       "      <td>4</td>\n",
       "      <td>3</td>\n",
       "      <td>5</td>\n",
       "      <td>5</td>\n",
       "      <td>1955</td>\n",
       "      <td>1955</td>\n",
       "      <td>0.0</td>\n",
       "      <td>...</td>\n",
       "      <td>0</td>\n",
       "      <td>0</td>\n",
       "      <td>0</td>\n",
       "      <td>0</td>\n",
       "      <td>0</td>\n",
       "      <td>0</td>\n",
       "      <td>0</td>\n",
       "      <td>0</td>\n",
       "      <td>0</td>\n",
       "      <td>1</td>\n",
       "    </tr>\n",
       "  </tbody>\n",
       "</table>\n",
       "<p>878 rows × 178 columns</p>\n",
       "</div>"
      ],
      "text/plain": [
       "     lot_frontage  lot_area  lot_shape  utilities  land_slope  overall_qual  \\\n",
       "0       69.000000      9142          4          4           3             6   \n",
       "1       69.545961      9662          3          4           3             5   \n",
       "2       58.000000     17104          3          4           3             7   \n",
       "3       60.000000      8520          4          4           3             5   \n",
       "4       69.545961      9500          3          4           3             6   \n",
       "..            ...       ...        ...        ...         ...           ...   \n",
       "873     80.000000      8000          4          4           3             6   \n",
       "874     90.000000     14670          4          4           3             6   \n",
       "875     55.000000      8250          4          4           3             5   \n",
       "876     60.000000      9000          4          4           3             4   \n",
       "877     70.000000      8400          4          4           3             5   \n",
       "\n",
       "     overall_cond  year_built  year_remod/add  mas_vnr_area  ...  \\\n",
       "0               8        1910            1950           0.0  ...   \n",
       "1               4        1977            1977           0.0  ...   \n",
       "2               5        2006            2006           0.0  ...   \n",
       "3               6        1923            2006           0.0  ...   \n",
       "4               5        1963            1963         247.0  ...   \n",
       "..            ...         ...             ...           ...  ...   \n",
       "873             6        1974            1974           0.0  ...   \n",
       "874             7        1966            1999         410.0  ...   \n",
       "875             5        1968            1968           0.0  ...   \n",
       "876             6        1971            1971           0.0  ...   \n",
       "877             5        1955            1955           0.0  ...   \n",
       "\n",
       "     garage_type_CarPort  garage_type_Detchd  sale_type_CWD  sale_type_Con  \\\n",
       "0                      0                   1              0              0   \n",
       "1                      0                   0              0              0   \n",
       "2                      0                   0              0              0   \n",
       "3                      0                   1              0              0   \n",
       "4                      0                   0              0              0   \n",
       "..                   ...                 ...            ...            ...   \n",
       "873                    0                   0              0              0   \n",
       "874                    0                   0              0              0   \n",
       "875                    0                   0              0              0   \n",
       "876                    0                   1              0              0   \n",
       "877                    0                   0              0              0   \n",
       "\n",
       "     sale_type_ConLD  sale_type_ConLI  sale_type_ConLw  sale_type_New  \\\n",
       "0                  0                0                0              0   \n",
       "1                  0                0                0              0   \n",
       "2                  0                0                0              1   \n",
       "3                  0                0                0              0   \n",
       "4                  0                0                0              0   \n",
       "..               ...              ...              ...            ...   \n",
       "873                0                0                0              0   \n",
       "874                0                0                0              0   \n",
       "875                0                0                0              0   \n",
       "876                0                0                0              0   \n",
       "877                0                0                0              0   \n",
       "\n",
       "     sale_type_Oth  sale_type_WD   \n",
       "0                0              1  \n",
       "1                0              1  \n",
       "2                0              0  \n",
       "3                0              1  \n",
       "4                0              1  \n",
       "..             ...            ...  \n",
       "873              0              1  \n",
       "874              0              1  \n",
       "875              0              1  \n",
       "876              0              1  \n",
       "877              0              1  \n",
       "\n",
       "[878 rows x 178 columns]"
      ]
     },
     "execution_count": 32,
     "metadata": {},
     "output_type": "execute_result"
    }
   ],
   "source": [
    "# dropping columns in testing set as the two datasets need to contain the same features\n",
    "df_test = df_test.drop(columns=['exterior_1st_PreCast',\n",
    "                                'exterior_2nd_Other',\n",
    "                                'exterior_2nd_PreCast',\n",
    "                                'heating_GasA',\n",
    "                                'mas_vnr_type_CBlock',\n",
    "                                'roof_matl_Metal',\n",
    "                                'roof_matl_Roll',\n",
    "                                'sale_type_VWD'])\n",
    "df_test"
   ]
  },
  {
   "cell_type": "code",
   "execution_count": 33,
   "metadata": {},
   "outputs": [
    {
     "name": "stdout",
     "output_type": "stream",
     "text": [
      "(2049, 179)\n",
      "(878, 178)\n"
     ]
    }
   ],
   "source": [
    "df_shape(df_train, df_test)"
   ]
  },
  {
   "cell_type": "markdown",
   "metadata": {},
   "source": [
    "## Model Prep\n",
    "---"
   ]
  },
  {
   "cell_type": "markdown",
   "metadata": {},
   "source": [
    "### 1. Creating features matrix (`X`) and target vector (`y`)\n",
    "\n",
    "Every numerical column (that is not the target) will be used as a feature. <br/>\n",
    "The `SalePrice` column is our target vector : Sale price $$"
   ]
  },
  {
   "cell_type": "code",
   "execution_count": 34,
   "metadata": {},
   "outputs": [],
   "source": [
    "features = [col for col in df_train._get_numeric_data().columns if col != 'saleprice']\n",
    "X = df_train[features]\n",
    "y = df_train['saleprice']"
   ]
  },
  {
   "cell_type": "markdown",
   "metadata": {},
   "source": [
    "### 2. Train Test Split"
   ]
  },
  {
   "cell_type": "code",
   "execution_count": 35,
   "metadata": {},
   "outputs": [],
   "source": [
    "X_train, X_test, y_train, y_test = train_test_split(X, y, random_state=42)"
   ]
  },
  {
   "cell_type": "markdown",
   "metadata": {},
   "source": [
    "### 3. Scaling"
   ]
  },
  {
   "cell_type": "code",
   "execution_count": 36,
   "metadata": {},
   "outputs": [],
   "source": [
    "ss = StandardScaler()\n",
    "ss.fit(X_train)\n",
    "X_train = ss.transform(X_train)\n",
    "X_test = ss.transform(X_test)"
   ]
  },
  {
   "cell_type": "markdown",
   "metadata": {},
   "source": [
    "### 4. Instantiate the Models"
   ]
  },
  {
   "cell_type": "code",
   "execution_count": 37,
   "metadata": {},
   "outputs": [],
   "source": [
    "lr = LinearRegression()"
   ]
  },
  {
   "cell_type": "code",
   "execution_count": 38,
   "metadata": {},
   "outputs": [],
   "source": [
    "lasso = LassoCV(n_alphas=200)"
   ]
  },
  {
   "cell_type": "code",
   "execution_count": 39,
   "metadata": {},
   "outputs": [],
   "source": [
    "ridge = RidgeCV(alphas=np.linspace(.1, 10, 100))"
   ]
  },
  {
   "cell_type": "markdown",
   "metadata": {},
   "source": [
    "### 5. Cross Validation"
   ]
  },
  {
   "cell_type": "code",
   "execution_count": 40,
   "metadata": {},
   "outputs": [
    {
     "data": {
      "text/plain": [
       "array([-8.49308561e+10,  8.98150039e-01,  8.90219314e-01, -3.48386979e+05,\n",
       "       -2.11790753e+22])"
      ]
     },
     "execution_count": 40,
     "metadata": {},
     "output_type": "execute_result"
    }
   ],
   "source": [
    "lr_scores = cross_val_score(lr, X_train, y_train, cv=5)\n",
    "lr_scores"
   ]
  },
  {
   "cell_type": "code",
   "execution_count": 41,
   "metadata": {},
   "outputs": [
    {
     "data": {
      "text/plain": [
       "0.9031025381089084"
      ]
     },
     "execution_count": 41,
     "metadata": {},
     "output_type": "execute_result"
    }
   ],
   "source": [
    "lasso_scores = cross_val_score(lasso, X_train, y_train, cv=5)\n",
    "lasso_scores.mean()"
   ]
  },
  {
   "cell_type": "code",
   "execution_count": 42,
   "metadata": {},
   "outputs": [
    {
     "data": {
      "text/plain": [
       "0.8978652318826598"
      ]
     },
     "execution_count": 42,
     "metadata": {},
     "output_type": "execute_result"
    }
   ],
   "source": [
    "ridge_scores = cross_val_score(ridge, X_train, y_train, cv=5)\n",
    "ridge_scores.mean()"
   ]
  },
  {
   "cell_type": "markdown",
   "metadata": {},
   "source": [
    "## Model Fitting and Evaluation\n",
    "---"
   ]
  },
  {
   "cell_type": "code",
   "execution_count": 43,
   "metadata": {},
   "outputs": [
    {
     "data": {
      "text/plain": [
       "LinearRegression()"
      ]
     },
     "execution_count": 43,
     "metadata": {},
     "output_type": "execute_result"
    }
   ],
   "source": [
    "lr.fit(X_train, y_train)"
   ]
  },
  {
   "cell_type": "code",
   "execution_count": 44,
   "metadata": {},
   "outputs": [
    {
     "data": {
      "text/plain": [
       "0.9289291900623425"
      ]
     },
     "execution_count": 44,
     "metadata": {},
     "output_type": "execute_result"
    }
   ],
   "source": [
    "lr.score(X_train, y_train)"
   ]
  },
  {
   "cell_type": "code",
   "execution_count": 42,
   "metadata": {},
   "outputs": [
    {
     "data": {
      "text/plain": [
       "RidgeCV(alphas=array([ 0.1,  0.2,  0.3,  0.4,  0.5,  0.6,  0.7,  0.8,  0.9,  1. ,  1.1,\n",
       "        1.2,  1.3,  1.4,  1.5,  1.6,  1.7,  1.8,  1.9,  2. ,  2.1,  2.2,\n",
       "        2.3,  2.4,  2.5,  2.6,  2.7,  2.8,  2.9,  3. ,  3.1,  3.2,  3.3,\n",
       "        3.4,  3.5,  3.6,  3.7,  3.8,  3.9,  4. ,  4.1,  4.2,  4.3,  4.4,\n",
       "        4.5,  4.6,  4.7,  4.8,  4.9,  5. ,  5.1,  5.2,  5.3,  5.4,  5.5,\n",
       "        5.6,  5.7,  5.8,  5.9,  6. ,  6.1,  6.2,  6.3,  6.4,  6.5,  6.6,\n",
       "        6.7,  6.8,  6.9,  7. ,  7.1,  7.2,  7.3,  7.4,  7.5,  7.6,  7.7,\n",
       "        7.8,  7.9,  8. ,  8.1,  8.2,  8.3,  8.4,  8.5,  8.6,  8.7,  8.8,\n",
       "        8.9,  9. ,  9.1,  9.2,  9.3,  9.4,  9.5,  9.6,  9.7,  9.8,  9.9,\n",
       "       10. ]))"
      ]
     },
     "execution_count": 42,
     "metadata": {},
     "output_type": "execute_result"
    }
   ],
   "source": [
    "ridge.fit(X_train, y_train)"
   ]
  },
  {
   "cell_type": "code",
   "execution_count": 43,
   "metadata": {},
   "outputs": [
    {
     "data": {
      "text/plain": [
       "0.9280626472939085"
      ]
     },
     "execution_count": 43,
     "metadata": {},
     "output_type": "execute_result"
    }
   ],
   "source": [
    "ridge.score(X_train, y_train)"
   ]
  },
  {
   "cell_type": "code",
   "execution_count": 44,
   "metadata": {},
   "outputs": [
    {
     "data": {
      "text/plain": [
       "0.9144720324544086"
      ]
     },
     "execution_count": 44,
     "metadata": {},
     "output_type": "execute_result"
    }
   ],
   "source": [
    "ridge.score(X_test, y_test)"
   ]
  },
  {
   "cell_type": "code",
   "execution_count": 45,
   "metadata": {},
   "outputs": [
    {
     "data": {
      "text/plain": [
       "0.9144720324544086"
      ]
     },
     "execution_count": 45,
     "metadata": {},
     "output_type": "execute_result"
    }
   ],
   "source": [
    "pred = ridge.predict(X_test)\n",
    "r2_score(y_test, pred)"
   ]
  },
  {
   "cell_type": "code",
   "execution_count": 46,
   "metadata": {},
   "outputs": [
    {
     "data": {
      "image/png": "[encoded data removed]",
      "text/plain": [
       "<Figure size 1080x504 with 1 Axes>"
      ]
     },
     "metadata": {
      "needs_background": "light"
     },
     "output_type": "display_data"
    }
   ],
   "source": [
    "pd.Series(ridge.coef_, index=features).plot.bar(figsize=(15, 7));"
   ]
  },
  {
   "cell_type": "code",
   "execution_count": 47,
   "metadata": {},
   "outputs": [
    {
     "data": {
      "text/plain": [
       "<matplotlib.collections.PathCollection at 0x13561f7d100>"
      ]
     },
     "execution_count": 47,
     "metadata": {},
     "output_type": "execute_result"
    },
    {
     "data": {
      "image/png": "[encoded data removed]",
      "text/plain": [
       "<Figure size 432x288 with 1 Axes>"
      ]
     },
     "metadata": {
      "needs_background": "light"
     },
     "output_type": "display_data"
    }
   ],
   "source": [
    "residuals = y_test - pred\n",
    "plt.scatter(pred, residuals)"
   ]
  },
  {
   "cell_type": "markdown",
   "metadata": {},
   "source": [
    "## Applying the Model to the Kaggle Test dataset\n",
    "---"
   ]
  },
  {
   "cell_type": "code",
   "execution_count": 48,
   "metadata": {},
   "outputs": [
    {
     "data": {
      "text/plain": [
       "(878, 178)"
      ]
     },
     "execution_count": 48,
     "metadata": {},
     "output_type": "execute_result"
    }
   ],
   "source": [
    "df_test.shape"
   ]
  },
  {
   "cell_type": "code",
   "execution_count": null,
   "metadata": {},
   "outputs": [],
   "source": []
  },
  {
   "cell_type": "code",
   "execution_count": null,
   "metadata": {},
   "outputs": [],
   "source": []
  },
  {
   "cell_type": "code",
   "execution_count": 49,
   "metadata": {},
   "outputs": [],
   "source": [
    "prediction = ridge.predict(df_test)"
   ]
  },
  {
   "cell_type": "code",
   "execution_count": 50,
   "metadata": {},
   "outputs": [],
   "source": [
    "prediction = pd.DataFrame(prediction)"
   ]
  },
  {
   "cell_type": "code",
   "execution_count": 51,
   "metadata": {},
   "outputs": [
    {
     "data": {
      "text/html": [
       "<div>\n",
       "<style scoped>\n",
       "    .dataframe tbody tr th:only-of-type {\n",
       "        vertical-align: middle;\n",
       "    }\n",
       "\n",
       "    .dataframe tbody tr th {\n",
       "        vertical-align: top;\n",
       "    }\n",
       "\n",
       "    .dataframe thead th {\n",
       "        text-align: right;\n",
       "    }\n",
       "</style>\n",
       "<table border=\"1\" class=\"dataframe\">\n",
       "  <thead>\n",
       "    <tr style=\"text-align: right;\">\n",
       "      <th></th>\n",
       "      <th>0</th>\n",
       "    </tr>\n",
       "  </thead>\n",
       "  <tbody>\n",
       "    <tr>\n",
       "      <th>0</th>\n",
       "      <td>1.024700e+08</td>\n",
       "    </tr>\n",
       "    <tr>\n",
       "      <th>1</th>\n",
       "      <td>1.114287e+08</td>\n",
       "    </tr>\n",
       "    <tr>\n",
       "      <th>2</th>\n",
       "      <td>1.324602e+08</td>\n",
       "    </tr>\n",
       "    <tr>\n",
       "      <th>3</th>\n",
       "      <td>7.666709e+07</td>\n",
       "    </tr>\n",
       "    <tr>\n",
       "      <th>4</th>\n",
       "      <td>1.018148e+08</td>\n",
       "    </tr>\n",
       "  </tbody>\n",
       "</table>\n",
       "</div>"
      ],
      "text/plain": [
       "              0\n",
       "0  1.024700e+08\n",
       "1  1.114287e+08\n",
       "2  1.324602e+08\n",
       "3  7.666709e+07\n",
       "4  1.018148e+08"
      ]
     },
     "execution_count": 51,
     "metadata": {},
     "output_type": "execute_result"
    }
   ],
   "source": [
    "prediction.head()"
   ]
  },
  {
   "cell_type": "code",
   "execution_count": 52,
   "metadata": {},
   "outputs": [
    {
     "data": {
      "text/plain": [
       "(878, 1)"
      ]
     },
     "execution_count": 52,
     "metadata": {},
     "output_type": "execute_result"
    }
   ],
   "source": [
    "prediction.shape"
   ]
  },
  {
   "cell_type": "code",
   "execution_count": 53,
   "metadata": {},
   "outputs": [],
   "source": [
    "prediction.columns = ['SalePrice']"
   ]
  },
  {
   "cell_type": "code",
   "execution_count": 54,
   "metadata": {},
   "outputs": [
    {
     "data": {
      "text/html": [
       "<div>\n",
       "<style scoped>\n",
       "    .dataframe tbody tr th:only-of-type {\n",
       "        vertical-align: middle;\n",
       "    }\n",
       "\n",
       "    .dataframe tbody tr th {\n",
       "        vertical-align: top;\n",
       "    }\n",
       "\n",
       "    .dataframe thead th {\n",
       "        text-align: right;\n",
       "    }\n",
       "</style>\n",
       "<table border=\"1\" class=\"dataframe\">\n",
       "  <thead>\n",
       "    <tr style=\"text-align: right;\">\n",
       "      <th></th>\n",
       "      <th>Id</th>\n",
       "      <th>PID</th>\n",
       "      <th>MS SubClass</th>\n",
       "      <th>MS Zoning</th>\n",
       "      <th>Lot Frontage</th>\n",
       "      <th>Lot Area</th>\n",
       "      <th>Street</th>\n",
       "      <th>Alley</th>\n",
       "      <th>Lot Shape</th>\n",
       "      <th>Land Contour</th>\n",
       "      <th>...</th>\n",
       "      <th>3Ssn Porch</th>\n",
       "      <th>Screen Porch</th>\n",
       "      <th>Pool Area</th>\n",
       "      <th>Pool QC</th>\n",
       "      <th>Fence</th>\n",
       "      <th>Misc Feature</th>\n",
       "      <th>Misc Val</th>\n",
       "      <th>Mo Sold</th>\n",
       "      <th>Yr Sold</th>\n",
       "      <th>Sale Type</th>\n",
       "    </tr>\n",
       "  </thead>\n",
       "  <tbody>\n",
       "    <tr>\n",
       "      <th>0</th>\n",
       "      <td>2658</td>\n",
       "      <td>902301120</td>\n",
       "      <td>190</td>\n",
       "      <td>RM</td>\n",
       "      <td>69.0</td>\n",
       "      <td>9142</td>\n",
       "      <td>Pave</td>\n",
       "      <td>Grvl</td>\n",
       "      <td>Reg</td>\n",
       "      <td>Lvl</td>\n",
       "      <td>...</td>\n",
       "      <td>0</td>\n",
       "      <td>0</td>\n",
       "      <td>0</td>\n",
       "      <td>NaN</td>\n",
       "      <td>NaN</td>\n",
       "      <td>NaN</td>\n",
       "      <td>0</td>\n",
       "      <td>4</td>\n",
       "      <td>2006</td>\n",
       "      <td>WD</td>\n",
       "    </tr>\n",
       "    <tr>\n",
       "      <th>1</th>\n",
       "      <td>2718</td>\n",
       "      <td>905108090</td>\n",
       "      <td>90</td>\n",
       "      <td>RL</td>\n",
       "      <td>NaN</td>\n",
       "      <td>9662</td>\n",
       "      <td>Pave</td>\n",
       "      <td>NaN</td>\n",
       "      <td>IR1</td>\n",
       "      <td>Lvl</td>\n",
       "      <td>...</td>\n",
       "      <td>0</td>\n",
       "      <td>0</td>\n",
       "      <td>0</td>\n",
       "      <td>NaN</td>\n",
       "      <td>NaN</td>\n",
       "      <td>NaN</td>\n",
       "      <td>0</td>\n",
       "      <td>8</td>\n",
       "      <td>2006</td>\n",
       "      <td>WD</td>\n",
       "    </tr>\n",
       "    <tr>\n",
       "      <th>2</th>\n",
       "      <td>2414</td>\n",
       "      <td>528218130</td>\n",
       "      <td>60</td>\n",
       "      <td>RL</td>\n",
       "      <td>58.0</td>\n",
       "      <td>17104</td>\n",
       "      <td>Pave</td>\n",
       "      <td>NaN</td>\n",
       "      <td>IR1</td>\n",
       "      <td>Lvl</td>\n",
       "      <td>...</td>\n",
       "      <td>0</td>\n",
       "      <td>0</td>\n",
       "      <td>0</td>\n",
       "      <td>NaN</td>\n",
       "      <td>NaN</td>\n",
       "      <td>NaN</td>\n",
       "      <td>0</td>\n",
       "      <td>9</td>\n",
       "      <td>2006</td>\n",
       "      <td>New</td>\n",
       "    </tr>\n",
       "    <tr>\n",
       "      <th>3</th>\n",
       "      <td>1989</td>\n",
       "      <td>902207150</td>\n",
       "      <td>30</td>\n",
       "      <td>RM</td>\n",
       "      <td>60.0</td>\n",
       "      <td>8520</td>\n",
       "      <td>Pave</td>\n",
       "      <td>NaN</td>\n",
       "      <td>Reg</td>\n",
       "      <td>Lvl</td>\n",
       "      <td>...</td>\n",
       "      <td>0</td>\n",
       "      <td>0</td>\n",
       "      <td>0</td>\n",
       "      <td>NaN</td>\n",
       "      <td>NaN</td>\n",
       "      <td>NaN</td>\n",
       "      <td>0</td>\n",
       "      <td>7</td>\n",
       "      <td>2007</td>\n",
       "      <td>WD</td>\n",
       "    </tr>\n",
       "    <tr>\n",
       "      <th>4</th>\n",
       "      <td>625</td>\n",
       "      <td>535105100</td>\n",
       "      <td>20</td>\n",
       "      <td>RL</td>\n",
       "      <td>NaN</td>\n",
       "      <td>9500</td>\n",
       "      <td>Pave</td>\n",
       "      <td>NaN</td>\n",
       "      <td>IR1</td>\n",
       "      <td>Lvl</td>\n",
       "      <td>...</td>\n",
       "      <td>0</td>\n",
       "      <td>185</td>\n",
       "      <td>0</td>\n",
       "      <td>NaN</td>\n",
       "      <td>NaN</td>\n",
       "      <td>NaN</td>\n",
       "      <td>0</td>\n",
       "      <td>7</td>\n",
       "      <td>2009</td>\n",
       "      <td>WD</td>\n",
       "    </tr>\n",
       "  </tbody>\n",
       "</table>\n",
       "<p>5 rows × 80 columns</p>\n",
       "</div>"
      ],
      "text/plain": [
       "     Id        PID  MS SubClass MS Zoning  Lot Frontage  Lot Area Street  \\\n",
       "0  2658  902301120          190        RM          69.0      9142   Pave   \n",
       "1  2718  905108090           90        RL           NaN      9662   Pave   \n",
       "2  2414  528218130           60        RL          58.0     17104   Pave   \n",
       "3  1989  902207150           30        RM          60.0      8520   Pave   \n",
       "4   625  535105100           20        RL           NaN      9500   Pave   \n",
       "\n",
       "  Alley Lot Shape Land Contour  ... 3Ssn Porch Screen Porch Pool Area Pool QC  \\\n",
       "0  Grvl       Reg          Lvl  ...          0            0         0     NaN   \n",
       "1   NaN       IR1          Lvl  ...          0            0         0     NaN   \n",
       "2   NaN       IR1          Lvl  ...          0            0         0     NaN   \n",
       "3   NaN       Reg          Lvl  ...          0            0         0     NaN   \n",
       "4   NaN       IR1          Lvl  ...          0          185         0     NaN   \n",
       "\n",
       "  Fence Misc Feature Misc Val Mo Sold  Yr Sold  Sale Type  \n",
       "0   NaN          NaN        0       4     2006        WD   \n",
       "1   NaN          NaN        0       8     2006        WD   \n",
       "2   NaN          NaN        0       9     2006        New  \n",
       "3   NaN          NaN        0       7     2007        WD   \n",
       "4   NaN          NaN        0       7     2009        WD   \n",
       "\n",
       "[5 rows x 80 columns]"
      ]
     },
     "execution_count": 54,
     "metadata": {},
     "output_type": "execute_result"
    }
   ],
   "source": [
    "df_test = pd.read_csv('../data/test.csv')\n",
    "df_test.head()"
   ]
  },
  {
   "cell_type": "code",
   "execution_count": 55,
   "metadata": {},
   "outputs": [
    {
     "data": {
      "text/html": [
       "<div>\n",
       "<style scoped>\n",
       "    .dataframe tbody tr th:only-of-type {\n",
       "        vertical-align: middle;\n",
       "    }\n",
       "\n",
       "    .dataframe tbody tr th {\n",
       "        vertical-align: top;\n",
       "    }\n",
       "\n",
       "    .dataframe thead th {\n",
       "        text-align: right;\n",
       "    }\n",
       "</style>\n",
       "<table border=\"1\" class=\"dataframe\">\n",
       "  <thead>\n",
       "    <tr style=\"text-align: right;\">\n",
       "      <th></th>\n",
       "      <th>Id</th>\n",
       "    </tr>\n",
       "  </thead>\n",
       "  <tbody>\n",
       "    <tr>\n",
       "      <th>0</th>\n",
       "      <td>2658</td>\n",
       "    </tr>\n",
       "    <tr>\n",
       "      <th>1</th>\n",
       "      <td>2718</td>\n",
       "    </tr>\n",
       "    <tr>\n",
       "      <th>2</th>\n",
       "      <td>2414</td>\n",
       "    </tr>\n",
       "    <tr>\n",
       "      <th>3</th>\n",
       "      <td>1989</td>\n",
       "    </tr>\n",
       "    <tr>\n",
       "      <th>4</th>\n",
       "      <td>625</td>\n",
       "    </tr>\n",
       "    <tr>\n",
       "      <th>...</th>\n",
       "      <td>...</td>\n",
       "    </tr>\n",
       "    <tr>\n",
       "      <th>873</th>\n",
       "      <td>1662</td>\n",
       "    </tr>\n",
       "    <tr>\n",
       "      <th>874</th>\n",
       "      <td>1234</td>\n",
       "    </tr>\n",
       "    <tr>\n",
       "      <th>875</th>\n",
       "      <td>1373</td>\n",
       "    </tr>\n",
       "    <tr>\n",
       "      <th>876</th>\n",
       "      <td>1672</td>\n",
       "    </tr>\n",
       "    <tr>\n",
       "      <th>877</th>\n",
       "      <td>1939</td>\n",
       "    </tr>\n",
       "  </tbody>\n",
       "</table>\n",
       "<p>878 rows × 1 columns</p>\n",
       "</div>"
      ],
      "text/plain": [
       "       Id\n",
       "0    2658\n",
       "1    2718\n",
       "2    2414\n",
       "3    1989\n",
       "4     625\n",
       "..    ...\n",
       "873  1662\n",
       "874  1234\n",
       "875  1373\n",
       "876  1672\n",
       "877  1939\n",
       "\n",
       "[878 rows x 1 columns]"
      ]
     },
     "execution_count": 55,
     "metadata": {},
     "output_type": "execute_result"
    }
   ],
   "source": [
    "df_test_Id = pd.DataFrame(df_test['Id'])\n",
    "df_test_Id"
   ]
  },
  {
   "cell_type": "code",
   "execution_count": 56,
   "metadata": {},
   "outputs": [
    {
     "data": {
      "text/html": [
       "<div>\n",
       "<style scoped>\n",
       "    .dataframe tbody tr th:only-of-type {\n",
       "        vertical-align: middle;\n",
       "    }\n",
       "\n",
       "    .dataframe tbody tr th {\n",
       "        vertical-align: top;\n",
       "    }\n",
       "\n",
       "    .dataframe thead th {\n",
       "        text-align: right;\n",
       "    }\n",
       "</style>\n",
       "<table border=\"1\" class=\"dataframe\">\n",
       "  <thead>\n",
       "    <tr style=\"text-align: right;\">\n",
       "      <th></th>\n",
       "      <th>Id</th>\n",
       "      <th>SalePrice</th>\n",
       "    </tr>\n",
       "  </thead>\n",
       "  <tbody>\n",
       "    <tr>\n",
       "      <th>0</th>\n",
       "      <td>2658</td>\n",
       "      <td>1.024700e+08</td>\n",
       "    </tr>\n",
       "    <tr>\n",
       "      <th>1</th>\n",
       "      <td>2718</td>\n",
       "      <td>1.114287e+08</td>\n",
       "    </tr>\n",
       "    <tr>\n",
       "      <th>2</th>\n",
       "      <td>2414</td>\n",
       "      <td>1.324602e+08</td>\n",
       "    </tr>\n",
       "    <tr>\n",
       "      <th>3</th>\n",
       "      <td>1989</td>\n",
       "      <td>7.666709e+07</td>\n",
       "    </tr>\n",
       "    <tr>\n",
       "      <th>4</th>\n",
       "      <td>625</td>\n",
       "      <td>1.018148e+08</td>\n",
       "    </tr>\n",
       "    <tr>\n",
       "      <th>...</th>\n",
       "      <td>...</td>\n",
       "      <td>...</td>\n",
       "    </tr>\n",
       "    <tr>\n",
       "      <th>873</th>\n",
       "      <td>1662</td>\n",
       "      <td>1.058415e+08</td>\n",
       "    </tr>\n",
       "    <tr>\n",
       "      <th>874</th>\n",
       "      <td>1234</td>\n",
       "      <td>1.377639e+08</td>\n",
       "    </tr>\n",
       "    <tr>\n",
       "      <th>875</th>\n",
       "      <td>1373</td>\n",
       "      <td>8.316741e+07</td>\n",
       "    </tr>\n",
       "    <tr>\n",
       "      <th>876</th>\n",
       "      <td>1672</td>\n",
       "      <td>8.220857e+07</td>\n",
       "    </tr>\n",
       "    <tr>\n",
       "      <th>877</th>\n",
       "      <td>1939</td>\n",
       "      <td>8.275429e+07</td>\n",
       "    </tr>\n",
       "  </tbody>\n",
       "</table>\n",
       "<p>878 rows × 2 columns</p>\n",
       "</div>"
      ],
      "text/plain": [
       "       Id     SalePrice\n",
       "0    2658  1.024700e+08\n",
       "1    2718  1.114287e+08\n",
       "2    2414  1.324602e+08\n",
       "3    1989  7.666709e+07\n",
       "4     625  1.018148e+08\n",
       "..    ...           ...\n",
       "873  1662  1.058415e+08\n",
       "874  1234  1.377639e+08\n",
       "875  1373  8.316741e+07\n",
       "876  1672  8.220857e+07\n",
       "877  1939  8.275429e+07\n",
       "\n",
       "[878 rows x 2 columns]"
      ]
     },
     "execution_count": 56,
     "metadata": {},
     "output_type": "execute_result"
    }
   ],
   "source": [
    "kaggle_subm = df_test_Id.join(prediction)\n",
    "kaggle_subm"
   ]
  },
  {
   "cell_type": "code",
   "execution_count": 57,
   "metadata": {},
   "outputs": [],
   "source": [
    "kaggle_subm.to_csv('../data/test_kaggle_subm.csv', index=False)"
   ]
  },
  {
   "cell_type": "code",
   "execution_count": null,
   "metadata": {},
   "outputs": [],
   "source": []
  },
  {
   "cell_type": "code",
   "execution_count": null,
   "metadata": {},
   "outputs": [],
   "source": []
  },
  {
   "cell_type": "code",
   "execution_count": null,
   "metadata": {},
   "outputs": [],
   "source": []
  }
 ],
 "metadata": {
  "kernelspec": {
   "display_name": "Python 3",
   "language": "python",
   "name": "python3"
  },
  "language_info": {
   "codemirror_mode": {
    "name": "ipython",
    "version": 3
   },
   "file_extension": ".py",
   "mimetype": "text/x-python",
   "name": "python",
   "nbconvert_exporter": "python",
   "pygments_lexer": "ipython3",
   "version": "3.8.5"
  }
 },
 "nbformat": 4,
 "nbformat_minor": 4
}
